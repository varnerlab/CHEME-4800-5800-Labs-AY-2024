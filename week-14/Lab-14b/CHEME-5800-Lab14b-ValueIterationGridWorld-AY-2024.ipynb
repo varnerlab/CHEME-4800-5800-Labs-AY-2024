{
 "cells": [
  {
   "cell_type": "markdown",
   "id": "74c7da3d-5bac-4d7d-81c2-f135ae11d8cc",
   "metadata": {},
   "source": [
    "## Lab 14b: Markov Decision Processes (MDPs) and Value Iteration\n",
    "`Lab 14b` will familiarize students with using `value iteration` for solving a two-dimensional grid-world navigation task. Suppose you have a [roomba](https://www.irobot.com) that has finished cleaning the floor in your kitchen and needs to return to its charging station (where it receives a positive reward). However, between your kitchen and the `charging station` (home base and safety), there are one or more `lava pits` (destruction for the [roomba](https://www.irobot.com), large negative reward). \n",
    "\n",
    "* __Task 1__: Setup a $n_{r}\\times{n}_{c}$ grid, encode this model as an instance of the `MyRectangularGridWorldModel` type, build this instance using a `build(...)` method.\n",
    "    * `TODO`: Inspect the data inside our grid world model, understand what each describes\n",
    "* __Task 2__: Use the `MyRectangularGridWorldModel` instance and generate the components of the `MDP,` namely, the return function (or array) `R(s, a),` and the model of the physics of the world in the transition function (or array) `T(s′, s, a).`\n",
    "* __Task 3__: Use a `value iteration` method to estimate the optimal value function $U^{\\star}(s)$\n",
    "    * `TODO`: Extract the `action-value function` or $Q(s, a)$ from the optimal optimal value function $U^{\\star}(s)$ \n",
    "    * `TODO`: Compute the optimal navigation policy $\\pi^{\\star}(s)$ from $Q(s,a)$\n",
    "    * `TODO`: Visualize the optimal policy\n",
    "\n",
    "### Background\n",
    "In an MDP, an agent receives a reward or penalty for each decision. MDPs consist of the tuple $\\left(\\mathcal{S}, \\mathcal{A}, R_{a}\\left(s, s^{\\prime}\\right), T_{a}\\left(s,s^{\\prime}\\right), \\gamma\\right)$:\n",
    "\n",
    "* The state space $\\mathcal{S}$ is the set of all possible states $s$ that a system can exist in.\n",
    "* The action space $\\mathcal{A}$ is the set of all possible actions $a$ that are available to the agent, where $\\mathcal{A}_{s} \\subseteq \\mathcal{A}$ is the subset of the action space $\\mathcal{A}$ that is accessible from state $s$.\n",
    "* An reward $R_{a}\\left(s, s^{\\prime}\\right)$ is received after transitioning from $s\\rightarrow{s}^{\\prime}$ due to action $a$. \n",
    "* The state transition model $T_{a}\\left(s,s^{\\prime}\\right) = P(s_{t+1} = s^{\\prime}~|~s_{t}=s,a_{t} = a)$ denotes the probability that action $a$ in state $s$ at time $t$ will result in state $s^{\\prime}$ at time $t+1$\n",
    "* The quantity $\\gamma$ is a discount factor used to weigh the future expected utility.\n",
    "\n",
    "Finally, a policy function $\\pi$ is the mapping from states $s\\in\\mathcal{S}$ to actions $a\\in\\mathcal{A}$ used by the agent to solve a decision task, i.e., $\\pi(s) = a$. \n",
    "_Value iteration_ computes the optimal value function $U^{\\star}$ (and from that we get an optimal policy $\\pi^{\\star}$) using the _Bellman backup_ operation:\n",
    "\n",
    "$$\n",
    "\\begin{equation*}\n",
    "U_{k+1}(s) = \\underset{a\\in\\mathcal{A}}{\\max}\\left(R(s,a) + \\gamma\\cdot\\sum_{s^{\\prime}\\in\\mathcal{S}}T(s^{\\prime}\\,\\vert\\,s,a)\\cdot{U}_{k}(s^{\\prime})\\right)\\quad\\forall{s}\\in\\mathcal{S}\n",
    "\\end{equation*}\n",
    "$$\n",
    "\n",
    "As $k\\rightarrow\\infty$ the value function converges $U_{k}(s)\\rightarrow{U^{\\star}(s)}$.\n",
    "The optimal policy $\\pi^{\\star}(s)$ can then extracted from the optimal $\\texttt{action-value}$ function $Q^{\\star}(s,a)$:\n",
    "\n",
    "$$\n",
    "\\begin{equation*}\n",
    "Q^{\\star}(s,a) = R(s,a) + \\gamma\\cdot\\sum_{s^{\\prime}\\in\\mathcal{S}}T(s^{\\prime}\\,\\vert\\,s,a)\\cdot{U^{\\star}}(s^{\\prime})\\quad\\forall{s\\in\\mathcal{S},a\\in\\mathcal{A}}\n",
    "\\end{equation*}\n",
    "$$\n",
    "by selecting the action $a\\in\\mathcal{A}$ such that:\n",
    "$$\n",
    "\\begin{equation*}\n",
    "\\pi^{\\star}(s) = \\underset{a\\in\\mathcal{A}}{\\arg\\max}\\,Q^{\\star}(s,a)\\quad\\forall{s\\in\\mathcal{S}}\n",
    "\\end{equation*}\n",
    "$$"
   ]
  },
  {
   "cell_type": "markdown",
   "id": "d9b91c6d-e13e-4b8c-bf14-d4651ef03d5e",
   "metadata": {},
   "source": [
    "## Setup\n",
    "The computations in this lab (or example) are enabled by codes in the [src](src) directory and several external `Julia` packages. To load the required packages and any custom codes the teaching team has developed to work with these packages, we [include](https://docs.julialang.org/en/v1/manual/code-loading/) the `Include.jl` file):"
   ]
  },
  {
   "cell_type": "code",
   "execution_count": 1,
   "id": "8de6de82-32d0-4ea2-93b5-6c55c94d2e8d",
   "metadata": {
    "tags": []
   },
   "outputs": [
    {
     "name": "stderr",
     "output_type": "stream",
     "text": [
      "\u001b[32m\u001b[1m  Activating\u001b[22m\u001b[39m project at `~/Desktop/julia_work/CHEME-4800-5800-Labs-AY-2024/week-14/Lab-14b`\n",
      "\u001b[32m\u001b[1m  No Changes\u001b[22m\u001b[39m to `~/Desktop/julia_work/CHEME-4800-5800-Labs-AY-2024/week-14/Lab-14b/Project.toml`\n",
      "\u001b[32m\u001b[1m  No Changes\u001b[22m\u001b[39m to `~/Desktop/julia_work/CHEME-4800-5800-Labs-AY-2024/week-14/Lab-14b/Manifest.toml`\n",
      "\u001b[32m\u001b[1m    Updating\u001b[22m\u001b[39m registry at `~/.julia/registries/General.toml`\n",
      "\u001b[32m\u001b[1m  No Changes\u001b[22m\u001b[39m to `~/Desktop/julia_work/CHEME-4800-5800-Labs-AY-2024/week-14/Lab-14b/Project.toml`\n",
      "\u001b[32m\u001b[1m  No Changes\u001b[22m\u001b[39m to `~/Desktop/julia_work/CHEME-4800-5800-Labs-AY-2024/week-14/Lab-14b/Manifest.toml`\n"
     ]
    }
   ],
   "source": [
    "include(\"Include.jl\");"
   ]
  },
  {
   "cell_type": "markdown",
   "id": "aa90108b-9ca9-4ab9-aba1-5085799c43fd",
   "metadata": {},
   "source": [
    "## Task 1: Build the world model\n",
    "We encoded the `rectangular grid world` using the `MyRectangularGridWorldModel` model, which we constructed using a `build(...)` method. Let's set up the data for the world, set up the states, actions, and rewards, and then construct the world model. \n",
    "* First, set values for the `number_of_rows` and `number_of_cols` variables, the `nactions` available to the agent, and the `discount factor` $\\gamma$. Then, we'll compute the number of states and set the state set $\\mathcal{S}$ and the action set $\\mathcal{A}$"
   ]
  },
  {
   "cell_type": "code",
   "execution_count": 2,
   "id": "1f4d2229-9484-4320-ad55-3c597a8b3881",
   "metadata": {
    "tags": []
   },
   "outputs": [],
   "source": [
    "number_of_rows = 5\n",
    "number_of_cols = 5\n",
    "nactions = 4;\n",
    "γ = 0.95;\n",
    "nstates = (number_of_rows*number_of_cols);\n",
    "𝒮 = range(1,stop=nstates,step=1) |> collect;\n",
    "𝒜 = range(1,stop=nactions,step=1) |> collect;"
   ]
  },
  {
   "cell_type": "markdown",
   "id": "92ea7b15-294b-485a-8b59-3442fc339f06",
   "metadata": {},
   "source": [
    "Next, we'll set up a description of the rewards, the `rewards::Dict{Tuple{Int, Int}, Float64}` dictionary, which maps the $(x,y)$-coordinates to a reward value. \n",
    "* We only need to put `non-default` reward values in the reward dictionary (we'll add default values to the other locations later). Also, let's put the locations on the grid that are `absorbing,` meaning the charging station or lava pits in your living room, in the `absorbing_state_set` variable. In addition to the `lava` and `charging station,` the `absorbing_state_set` could include spots where Roomba gets stuck.\n",
    "* The `soft_wall_set` set includes locations (states) that Roomba can access, e.g., where there is furniture. For now, let's leave the `soft_wall_set` empty."
   ]
  },
  {
   "cell_type": "code",
   "execution_count": 4,
   "id": "585ea9b1-a9f9-4628-9bb7-f43d7811f970",
   "metadata": {
    "tags": []
   },
   "outputs": [],
   "source": [
    "# setup rewards -\n",
    "lava_reward = -10000.0;\n",
    "charging_reward = 100.0\n",
    "\n",
    "rewards = Dict{Tuple{Int,Int}, Float64}()\n",
    "rewards[(1,2)] = lava_reward # lava in the (1,2) square \n",
    "rewards[(2,2)] = lava_reward # lava in the (2,2) square \n",
    "rewards[(2,3)] = lava_reward # lava in the (2,3) square \n",
    "rewards[(4,5)] = lava_reward # lava in the (4,4) square\n",
    "rewards[(2,4)] = charging_reward   # charging station square\n",
    "\n",
    "# Setup set of absorbing states (all lava pits and the charging station absorb)\n",
    "absorbing_state_set = Set{Tuple{Int,Int}}()\n",
    "for (k,v) ∈ rewards\n",
    "    push!(absorbing_state_set, k);   \n",
    "end\n",
    "\n",
    "# Setup soft walls (constraints) -\n",
    "soft_wall_set = Set{Tuple{Int,Int}}();"
   ]
  },
  {
   "cell_type": "markdown",
   "id": "edcf87c2-0b91-458e-8fb0-bb0db4e451ac",
   "metadata": {
    "tags": []
   },
   "source": [
    "Finally, build an instance of the `MyRectangularGridWorldModel` type, which models the grid world:\n",
    "* We pass in the number of rows `nrows,` the number of cols `ncols,` and our initial reward description in the `rewards` field into the `build(...)` method. This method then transforms this data into the fields of the `MyRectangularGridWorldModel` model. Save the world model in the `world` variable:"
   ]
  },
  {
   "cell_type": "code",
   "execution_count": 5,
   "id": "80f48d7a-a171-418d-8e99-cedb894ef305",
   "metadata": {
    "tags": []
   },
   "outputs": [],
   "source": [
    "world = build(MyRectangularGridWorldModel, \n",
    "    (nrows = number_of_rows, ncols = number_of_cols, rewards = rewards));"
   ]
  },
  {
   "cell_type": "markdown",
   "id": "b7af1d83-8feb-47ff-b100-1bc01bfe7ef9",
   "metadata": {
    "tags": []
   },
   "source": [
    "#### Questions\n",
    "* `TODO`: Inspect the data inside our `MyRectangularGridWorldModel` model instance. Do you understand what each field `coordinates,` `states,` `moves,` and `rewards` describe?"
   ]
  },
  {
   "cell_type": "markdown",
   "id": "5f0ed737-187b-4c88-88e4-dcca9d79e66a",
   "metadata": {},
   "source": [
    "## Task 2: Generate the components of the MDP problem\n",
    "The MDP problem requires the return function (or array) `R(s, a),` and the transition function (or array) `T(s′, s, a).` Let's construct these from our grid world model instance, starting with the reward function `R(s, a)`:\n",
    "\n",
    "### Rewards $R(s,a)$\n",
    "We'll encode the reward function as a $\\dim\\mathcal{S}\\times\\dim\\mathcal{A}$ array `R,` which holds the __immediate reward__ received for being in state $s\\in\\mathcal{S}$ and taking action $a\\in\\mathcal{A}$. After initializing the `R`-array with zeros, we'll populate the non-zero values of $R(s, a)$ using nested `for` loops. During each iteration of the `outer` loop, we'll:\n",
    "* Select a state `s,` an action `a`, and a move `Δ,` which implements action `a`.\n",
    "* We'll then compute the new position resulting from implementing action `a` from the current position and store this in the `new_position` variable.\n",
    "    * If the `new_position`$\\in\\mathcal{S}$ is in our initial `rewards` dictionary, e.g., the charging station or a lava pit, etc., we use that reward value from the `rewards` dictionary. If we are still in the world but not in a special location, we set the reward to `-1`.\n",
    "* Finally, if `new_position`$\\notin\\mathcal{S}$, i.e., the `new_position` is a space outside the grid, we set a penalty of `-50000.0`."
   ]
  },
  {
   "cell_type": "code",
   "execution_count": 6,
   "id": "f51634b4-76cf-4533-81d2-60e1470117dd",
   "metadata": {
    "tags": []
   },
   "outputs": [
    {
     "data": {
      "text/plain": [
       "25×4 Matrix{Float64}:\n",
       " -50000.0      -1.0  -50000.0  -10000.0\n",
       " -50000.0  -10000.0      -1.0      -1.0\n",
       " -50000.0  -10000.0  -10000.0      -1.0\n",
       " -50000.0     100.0      -1.0      -1.0\n",
       " -50000.0      -1.0      -1.0  -50000.0\n",
       "     -1.0      -1.0  -50000.0  -10000.0\n",
       " -10000.0      -1.0      -1.0  -10000.0\n",
       "     -1.0      -1.0  -10000.0     100.0\n",
       "     -1.0      -1.0  -10000.0      -1.0\n",
       "     -1.0      -1.0     100.0  -50000.0\n",
       "     -1.0      -1.0  -50000.0      -1.0\n",
       " -10000.0      -1.0      -1.0      -1.0\n",
       " -10000.0      -1.0      -1.0      -1.0\n",
       "    100.0      -1.0      -1.0      -1.0\n",
       "     -1.0  -10000.0      -1.0  -50000.0\n",
       "     -1.0      -1.0  -50000.0      -1.0\n",
       "     -1.0      -1.0      -1.0      -1.0\n",
       "     -1.0      -1.0      -1.0      -1.0\n",
       "     -1.0      -1.0      -1.0  -10000.0\n",
       "     -1.0      -1.0      -1.0  -50000.0\n",
       "     -1.0  -50000.0  -50000.0      -1.0\n",
       "     -1.0  -50000.0      -1.0      -1.0\n",
       "     -1.0  -50000.0      -1.0      -1.0\n",
       "     -1.0  -50000.0      -1.0      -1.0\n",
       " -10000.0  -50000.0      -1.0  -50000.0"
      ]
     },
     "execution_count": 6,
     "metadata": {},
     "output_type": "execute_result"
    }
   ],
   "source": [
    "R = zeros(nstates, nactions);\n",
    "fill!(R, 0.0)\n",
    "for s ∈ 𝒮 # iterate over states\n",
    "    for a ∈ 𝒜 # iterate over actions\n",
    "        \n",
    "        Δ = world.moves[a];\n",
    "        current_position = world.coordinates[s]\n",
    "        new_position =  current_position .+ Δ\n",
    "        if (haskey(world.states, new_position) == true)\n",
    "            if (haskey(rewards, new_position) == true)\n",
    "                R[s,a] = rewards[new_position];\n",
    "            else\n",
    "                R[s,a] = -1.0;\n",
    "            end\n",
    "        else\n",
    "            # we get here, then we have a new_position that is NOT in world.states???? Hmmm.\n",
    "            R[s,a] = -50000.0; # we are off the grid, big negative penalty\n",
    "        end\n",
    "    end\n",
    "end\n",
    "R"
   ]
  },
  {
   "cell_type": "markdown",
   "id": "40727829-a6d9-446a-8384-83828d967028",
   "metadata": {},
   "source": [
    "### Transition $T(s^{\\prime}\\,|\\,s,a)$\n",
    "Next, build the transition function $T(s^{\\prime}\\,|\\,s,a)$. We'll encode the transition function as a $\\dim\\mathcal{S}\\times\\dim\\mathcal{S}\\times\\dim\\mathcal{A}$ [multi-dimensional array](https://docs.julialang.org/en/v1/manual/arrays/) and populate it using nested `for` loops. \n",
    "* The `outer` loop we will iterate over actions. For every $a\\in\\mathcal{A}$ will get the move associated with that action and store it in the `Δ.`\n",
    "* In the `inner` loop, we will iterate over states $s\\in\\mathcal{S}$. We compute a `new_position` resulting from implementing action $a$ and check if `new_position`$\\in\\mathcal{S}$. If `new_position` is in the world, and `current_position` is _not_ an `absorbing state` we set $s^{\\prime}\\leftarrow$`world.states[new_position]`, and `T[s′, s, a] = 1.0`\n",
    "* However, if the `new_position` is outside of the grid (or we are jumping from an `absorbing` state), we set `T[s, s,  a] = 1.0`, i.e., the probability that we stay in `s` if we take action `a` is `1.0`."
   ]
  },
  {
   "cell_type": "code",
   "execution_count": 20,
   "id": "13d92d6f-fcd5-44be-acc3-58a275d2987e",
   "metadata": {
    "tags": []
   },
   "outputs": [],
   "source": [
    "T = Array{Float64,3}(undef, nstates, nstates, nactions);\n",
    "fill!(T, 0.0)\n",
    "for a ∈ 𝒜 # iterate over actions\n",
    "    Δ = world.moves[a]; # get the move\n",
    "    for s ∈ 𝒮 # iterate over states\n",
    "        current_position = world.coordinates[s]\n",
    "        new_position =  current_position .+ Δ\n",
    "        if (haskey(world.states, new_position) == true && \n",
    "                in(current_position, absorbing_state_set) == false)\n",
    "            s′ = world.states[new_position];\n",
    "            T[s′, s, a] = 1.0\n",
    "        else\n",
    "\n",
    "            # if the new_position is not in the world, or we are in an absorbing state, don't move from s\n",
    "            T[s, s,  a] = 1.0;\n",
    "        end\n",
    "    end\n",
    "end"
   ]
  },
  {
   "cell_type": "markdown",
   "id": "1f983f3d-753a-4e5a-92f5-52f941a4d53a",
   "metadata": {},
   "source": [
    "Finally, construct an instance of the `MyMDPProblemModel` which encodes the data required to solve the MDP problem.\n",
    "* We must pass the states `𝒮,` the actions `𝒜,` the transition matrix `T,` the reward matrix `R,` and the discount factor `γ` into the `build(...)` method. We store the MDP model in the `m` variable:"
   ]
  },
  {
   "cell_type": "code",
   "execution_count": 8,
   "id": "ef79abec-c27e-49ac-acf4-be56211c3f58",
   "metadata": {
    "tags": []
   },
   "outputs": [],
   "source": [
    "m = build(MyMDPProblemModel, (𝒮 = 𝒮, 𝒜 = 𝒜, T = T, R = R, γ = γ));"
   ]
  },
  {
   "cell_type": "markdown",
   "id": "1c4044aa-b380-4a8c-9252-eae71914e1e3",
   "metadata": {},
   "source": [
    "## Task 3: Estimate the optimal value function $U^{\\star}$\n",
    "Let's explore value iteration by constructing an instance of the `MyValueIterationModel` type, which takes the maximum number of iterations as a parameter. Save this in the `value_iteration_model` variable:"
   ]
  },
  {
   "cell_type": "code",
   "execution_count": 9,
   "id": "c50a8314-d55e-4f0c-981b-f7a406843ca0",
   "metadata": {
    "tags": []
   },
   "outputs": [],
   "source": [
    "value_iteration_model = MyValueIterationModel(1000);"
   ]
  },
  {
   "cell_type": "markdown",
   "id": "f1629357-940e-4570-a267-8f978426e82a",
   "metadata": {},
   "source": [
    "Next, we call the `solve(...)` method by passing the `value_iteration_model` instance and our MDP model `m::MyMDPProblemModel` as arguments. \n",
    "* The `solve(...)` method iteratively computes the value function $U^{\\star}(s)$, by calling the `backup(...)` function, which in turn calls the `lookahead(...)` function. The optimal value function $U^{\\star}(s)$ is returned in an instance of the `MyValueFunctionPolicy` type in the `U` field:"
   ]
  },
  {
   "cell_type": "code",
   "execution_count": 10,
   "id": "3b9b5bc5-d9a3-48c1-8eac-13cb595feea4",
   "metadata": {
    "tags": []
   },
   "outputs": [],
   "source": [
    "solution = solve(value_iteration_model, m);"
   ]
  },
  {
   "cell_type": "markdown",
   "id": "56f318f4-c389-49b5-8d46-08e1df83e58f",
   "metadata": {},
   "source": [
    "### Questions\n",
    "* `TODO`: Extract the `action-value function` or $Q(s, a)$ from the optimal optimal value function $U^{\\star}(s)$. We can use the [Q-function](src/Compute.jl) function, which takes `m` and the `solution::MyValueFunctionPolicy` as arguments. Save the $Q(s,a)$-table in the `my_Q` variable:"
   ]
  },
  {
   "cell_type": "code",
   "execution_count": 11,
   "id": "0b7e1e12-f637-4ecb-af32-cd0b3fd56fdb",
   "metadata": {
    "tags": []
   },
   "outputs": [
    {
     "data": {
      "text/plain": [
       "25×4 Matrix{Float64}:\n",
       " -49944.8         58.1519  -49944.8     -10019.0\n",
       " -50019.0     -10019.0        -20.0        -20.0\n",
       " -49927.8      -8100.0     -10019.0         75.95\n",
       " -49923.1         81.0         71.1525      71.1525\n",
       " -49927.8         75.95        75.95    -49927.8\n",
       "     54.2443      62.2651  -49940.8     -10019.0\n",
       " -10019.0        -20.0        -20.0     -10019.0\n",
       "   1899.0       1899.0      -8100.0       2000.0\n",
       "    -20.0        -20.0     -10019.0        -20.0\n",
       "     71.1525      71.1525      81.0     -49923.1\n",
       "     58.1519      58.1519  -49936.7         66.5949\n",
       " -10019.0         62.2651      62.2651      71.1525\n",
       "  -8100.0         66.5949      66.5949      75.95\n",
       "     81.0         71.1525      71.1525      71.1525\n",
       "     75.95    -10019.0         75.95    -49927.8\n",
       "     62.2651      54.2443  -49940.8         62.2651\n",
       "     66.5949      58.1519      58.1519      66.5949\n",
       "     71.1525      62.2651      62.2651      71.1525\n",
       "     75.95        66.5949      66.5949  -10019.0\n",
       "    -20.0        -20.0        -20.0     -50019.0\n",
       "     58.1519  -49944.8     -49944.8         58.1519\n",
       "     62.2651  -49940.8         54.2443      62.2651\n",
       "     66.5949  -49936.7         58.1519      66.5949\n",
       "     71.1525  -49932.4         62.2651      62.2651\n",
       " -10019.0     -49936.7         66.5949  -49936.7"
      ]
     },
     "execution_count": 11,
     "metadata": {},
     "output_type": "execute_result"
    }
   ],
   "source": [
    "my_Q = Q(m, solution.U)"
   ]
  },
  {
   "cell_type": "markdown",
   "id": "76fc0626-8041-40e9-b92d-491b6edfe9dd",
   "metadata": {},
   "source": [
    "`TODO`: Compute the optimal policy $\\pi^{\\star}(s)$ from $Q(s,a)$-table using the [policy function](src/Compute.jl). The [policy function](src/Compute.jl) takes the $Q(s, a)$-table as an argument and returns the policy $\\pi(s)$. Save the policy in the `my_π`) variable:"
   ]
  },
  {
   "cell_type": "code",
   "execution_count": 12,
   "id": "e41ba794-1995-48d1-95d5-5aceefbafbab",
   "metadata": {
    "tags": []
   },
   "outputs": [
    {
     "data": {
      "text/plain": [
       "25-element Vector{Int64}:\n",
       " 2\n",
       " 3\n",
       " 4\n",
       " 2\n",
       " 2\n",
       " 2\n",
       " 2\n",
       " 4\n",
       " 1\n",
       " 3\n",
       " 4\n",
       " 4\n",
       " 4\n",
       " 1\n",
       " 1\n",
       " 1\n",
       " 1\n",
       " 1\n",
       " 1\n",
       " 1\n",
       " 1\n",
       " 1\n",
       " 1\n",
       " 1\n",
       " 3"
      ]
     },
     "execution_count": 12,
     "metadata": {},
     "output_type": "execute_result"
    }
   ],
   "source": [
    "my_π = policy(my_Q)"
   ]
  },
  {
   "cell_type": "markdown",
   "id": "0b1fcde3-b949-4469-ad96-d51f978a28a8",
   "metadata": {},
   "source": [
    "`TODO`: Finally, let's visualize the optimal policy $\\pi^{\\star}(s)$ function and compute the path that [roomba](https://www.irobot.com) takes to return to its charging station. We'll first visualize the path by printing out the $s, a,s^{\\prime}$ values for each state $s\\in\\mathcal{S}$. To make this easier, let's alias the actions as arrows, e.g., `↑` would correspond to an `up` move in the `move_arrows` dictionary:"
   ]
  },
  {
   "cell_type": "code",
   "execution_count": 13,
   "id": "9433b845-d226-4501-9d19-ea4b34efb1e9",
   "metadata": {
    "tags": []
   },
   "outputs": [],
   "source": [
    "move_arrows = Dict{Int,Any}();\n",
    "move_arrows[1] = \"←\"\n",
    "move_arrows[2] = \"→\"\n",
    "move_arrows[3] = \"↓\"\n",
    "move_arrows[4] = \"↑\"\n",
    "move_arrows[5] = \"∅\";"
   ]
  },
  {
   "cell_type": "markdown",
   "id": "0744d53b-1950-4740-83ef-04e3b7a45806",
   "metadata": {},
   "source": [
    "Then we iterate over the states $s\\in\\mathcal{S}$ and print out the move associated with state $s$, i.e., the value suggested by our optimal policy function $\\pi^{\\star}$:"
   ]
  },
  {
   "cell_type": "code",
   "execution_count": 14,
   "id": "9aa4ef98-b525-49ca-a414-826122781e4e",
   "metadata": {
    "tags": []
   },
   "outputs": [
    {
     "name": "stdout",
     "output_type": "stream",
     "text": [
      "(1, 1) → (2, 1)\n",
      "(1, 2) ∅\n",
      "(1, 3) ↑ (1, 4)\n",
      "(1, 4) → (2, 4)\n",
      "(1, 5) → (2, 5)\n",
      "(2, 1) → (3, 1)\n",
      "(2, 2) ∅\n",
      "(2, 3) ∅\n",
      "(2, 4) ∅\n",
      "(2, 5) ↓ (2, 4)\n",
      "(3, 1) ↑ (3, 2)\n",
      "(3, 2) ↑ (3, 3)\n",
      "(3, 3) ↑ (3, 4)\n",
      "(3, 4) ← (2, 4)\n",
      "(3, 5) ← (2, 5)\n",
      "(4, 1) ← (3, 1)\n",
      "(4, 2) ← (3, 2)\n",
      "(4, 3) ← (3, 3)\n",
      "(4, 4) ← (3, 4)\n",
      "(4, 5) ∅\n",
      "(5, 1) ← (4, 1)\n",
      "(5, 2) ← (4, 2)\n",
      "(5, 3) ← (4, 3)\n",
      "(5, 4) ← (4, 4)\n",
      "(5, 5) ↓ (5, 4)\n"
     ]
    }
   ],
   "source": [
    "for s ∈ 𝒮\n",
    "    a = my_π[s];\n",
    "    Δ = world.moves[a];\n",
    "    current_position = world.coordinates[s]\n",
    "    new_position =  current_position .+ Δ\n",
    "    \n",
    "    if (in(current_position, absorbing_state_set) == true)\n",
    "        println(\"$(current_position) $(move_arrows[5])\")\n",
    "    else\n",
    "        println(\"$(current_position) $(move_arrows[a]) $(new_position)\")\n",
    "    end\n",
    "end"
   ]
  },
  {
   "cell_type": "markdown",
   "id": "17793c48-0f6e-4469-b642-a001d6de0d8b",
   "metadata": {},
   "source": [
    "`Unhide` the code block below to see how we plot the path through our grid world that [roomba](https://www.irobot.com/en_US/roomba.html?source=google_paid&medium=cpc&ds_campaign=US+-+Conversion+-+Brand+-+SEM+-+Roomba+-+Core+-+Exact&ds_content=Core+-+Roomba+-+Exact&ds_keyword=roomba&gad_source=1&gclid=EAIaIQobChMIu_65qsfYhQMVImJHAR3i1wTGEAAYASAAEgKwgfD_BwE&gclsrc=aw.ds) uses to get back to the charging station (shown as the green circle) while navigating around the lava pits (should as red circles). We start in grid position `(1,1)`"
   ]
  },
  {
   "cell_type": "code",
   "execution_count": 16,
   "id": "79a90487-38cc-43e3-9292-f3e651784878",
   "metadata": {
    "jupyter": {
     "source_hidden": true
    }
   },
   "outputs": [
    {
     "data": {
      "image/png": "[encoded data removed]",
      "image/svg+xml": [
       "<?xml version=\"1.0\" encoding=\"utf-8\"?>\n",
       "<svg xmlns=\"http://www.w3.org/2000/svg\" xmlns:xlink=\"http://www.w3.org/1999/xlink\" width=\"600\" height=\"400\" viewBox=\"0 0 2400 1600\">\n",
       "<defs>\n",
       "  <clipPath id=\"clip610\">\n",
       "    <rect x=\"0\" y=\"0\" width=\"2400\" height=\"1600\"/>\n",
       "  </clipPath>\n",
       "</defs>\n",
       "<path clip-path=\"url(#clip610)\" d=\"M0 1600 L2400 1600 L2400 8.88178e-14 L0 8.88178e-14  Z\" fill=\"#ffffff\" fill-rule=\"evenodd\" fill-opacity=\"1\"/>\n",
       "<defs>\n",
       "  <clipPath id=\"clip611\">\n",
       "    <rect x=\"480\" y=\"0\" width=\"1681\" height=\"1600\"/>\n",
       "  </clipPath>\n",
       "</defs>\n",
       "<path clip-path=\"url(#clip610)\" d=\"M112.177 1486.45 L2352.76 1486.45 L2352.76 47.2441 L112.177 47.2441  Z\" fill=\"#ffffff\" fill-rule=\"evenodd\" fill-opacity=\"1\"/>\n",
       "<defs>\n",
       "  <clipPath id=\"clip612\">\n",
       "    <rect x=\"112\" y=\"47\" width=\"2242\" height=\"1440\"/>\n",
       "  </clipPath>\n",
       "</defs>\n",
       "<polyline clip-path=\"url(#clip612)\" style=\"stroke:#000000; stroke-linecap:round; stroke-linejoin:round; stroke-width:2; stroke-opacity:0.1; fill:none\" points=\"175.59,1486.45 175.59,47.2441 \"/>\n",
       "<polyline clip-path=\"url(#clip612)\" style=\"stroke:#000000; stroke-linecap:round; stroke-linejoin:round; stroke-width:2; stroke-opacity:0.1; fill:none\" points=\"704.028,1486.45 704.028,47.2441 \"/>\n",
       "<polyline clip-path=\"url(#clip612)\" style=\"stroke:#000000; stroke-linecap:round; stroke-linejoin:round; stroke-width:2; stroke-opacity:0.1; fill:none\" points=\"1232.47,1486.45 1232.47,47.2441 \"/>\n",
       "<polyline clip-path=\"url(#clip612)\" style=\"stroke:#000000; stroke-linecap:round; stroke-linejoin:round; stroke-width:2; stroke-opacity:0.1; fill:none\" points=\"1760.9,1486.45 1760.9,47.2441 \"/>\n",
       "<polyline clip-path=\"url(#clip612)\" style=\"stroke:#000000; stroke-linecap:round; stroke-linejoin:round; stroke-width:2; stroke-opacity:0.1; fill:none\" points=\"2289.34,1486.45 2289.34,47.2441 \"/>\n",
       "<polyline clip-path=\"url(#clip612)\" style=\"stroke:#000000; stroke-linecap:round; stroke-linejoin:round; stroke-width:2; stroke-opacity:0.1; fill:none\" points=\"112.177,1445.72 2352.76,1445.72 \"/>\n",
       "<polyline clip-path=\"url(#clip612)\" style=\"stroke:#000000; stroke-linecap:round; stroke-linejoin:round; stroke-width:2; stroke-opacity:0.1; fill:none\" points=\"112.177,1106.28 2352.76,1106.28 \"/>\n",
       "<polyline clip-path=\"url(#clip612)\" style=\"stroke:#000000; stroke-linecap:round; stroke-linejoin:round; stroke-width:2; stroke-opacity:0.1; fill:none\" points=\"112.177,766.846 2352.76,766.846 \"/>\n",
       "<polyline clip-path=\"url(#clip612)\" style=\"stroke:#000000; stroke-linecap:round; stroke-linejoin:round; stroke-width:2; stroke-opacity:0.1; fill:none\" points=\"112.177,427.411 2352.76,427.411 \"/>\n",
       "<polyline clip-path=\"url(#clip612)\" style=\"stroke:#000000; stroke-linecap:round; stroke-linejoin:round; stroke-width:2; stroke-opacity:0.1; fill:none\" points=\"112.177,87.9763 2352.76,87.9763 \"/>\n",
       "<circle clip-path=\"url(#clip612)\" cx=\"175.59\" cy=\"1445.72\" r=\"14.4\" fill=\"#0000ff\" fill-rule=\"evenodd\" fill-opacity=\"1\" stroke=\"#000000\" stroke-opacity=\"1\" stroke-width=\"3.2\"/>\n",
       "<polyline clip-path=\"url(#clip612)\" style=\"stroke:#808080; stroke-linecap:round; stroke-linejoin:round; stroke-width:4; stroke-opacity:1; fill:none\" points=\"175.59,1445.72 704.028,1445.72 \"/>\n",
       "<polyline clip-path=\"url(#clip612)\" style=\"stroke:#808080; stroke-linecap:round; stroke-linejoin:round; stroke-width:4; stroke-opacity:1; fill:none\" points=\"668.028,1427.72 704.028,1445.72 668.028,1463.72 \"/>\n",
       "<polyline clip-path=\"url(#clip612)\" style=\"stroke:#808080; stroke-linecap:round; stroke-linejoin:round; stroke-width:4; stroke-opacity:1; fill:none\" points=\"704.028,1445.72 175.59,1445.72 \"/>\n",
       "<circle clip-path=\"url(#clip612)\" cx=\"704.028\" cy=\"1445.72\" r=\"14.4\" fill=\"#0000ff\" fill-rule=\"evenodd\" fill-opacity=\"1\" stroke=\"#000000\" stroke-opacity=\"1\" stroke-width=\"3.2\"/>\n",
       "<polyline clip-path=\"url(#clip612)\" style=\"stroke:#808080; stroke-linecap:round; stroke-linejoin:round; stroke-width:4; stroke-opacity:1; fill:none\" points=\"704.028,1445.72 1232.47,1445.72 \"/>\n",
       "<polyline clip-path=\"url(#clip612)\" style=\"stroke:#808080; stroke-linecap:round; stroke-linejoin:round; stroke-width:4; stroke-opacity:1; fill:none\" points=\"1196.47,1427.72 1232.47,1445.72 1196.47,1463.72 \"/>\n",
       "<polyline clip-path=\"url(#clip612)\" style=\"stroke:#808080; stroke-linecap:round; stroke-linejoin:round; stroke-width:4; stroke-opacity:1; fill:none\" points=\"1232.47,1445.72 704.028,1445.72 \"/>\n",
       "<circle clip-path=\"url(#clip612)\" cx=\"1232.47\" cy=\"1445.72\" r=\"14.4\" fill=\"#0000ff\" fill-rule=\"evenodd\" fill-opacity=\"1\" stroke=\"#000000\" stroke-opacity=\"1\" stroke-width=\"3.2\"/>\n",
       "<polyline clip-path=\"url(#clip612)\" style=\"stroke:#808080; stroke-linecap:round; stroke-linejoin:round; stroke-width:4; stroke-opacity:1; fill:none\" points=\"1232.47,1445.72 1232.47,1106.28 \"/>\n",
       "<polyline clip-path=\"url(#clip612)\" style=\"stroke:#808080; stroke-linecap:round; stroke-linejoin:round; stroke-width:4; stroke-opacity:1; fill:none\" points=\"1214.47,1142.28 1232.47,1106.28 1250.47,1142.28 \"/>\n",
       "<polyline clip-path=\"url(#clip612)\" style=\"stroke:#808080; stroke-linecap:round; stroke-linejoin:round; stroke-width:4; stroke-opacity:1; fill:none\" points=\"1232.47,1106.28 1232.47,1445.72 \"/>\n",
       "<circle clip-path=\"url(#clip612)\" cx=\"1232.47\" cy=\"1106.28\" r=\"14.4\" fill=\"#0000ff\" fill-rule=\"evenodd\" fill-opacity=\"1\" stroke=\"#000000\" stroke-opacity=\"1\" stroke-width=\"3.2\"/>\n",
       "<polyline clip-path=\"url(#clip612)\" style=\"stroke:#808080; stroke-linecap:round; stroke-linejoin:round; stroke-width:4; stroke-opacity:1; fill:none\" points=\"1232.47,1106.28 1232.47,766.846 \"/>\n",
       "<polyline clip-path=\"url(#clip612)\" style=\"stroke:#808080; stroke-linecap:round; stroke-linejoin:round; stroke-width:4; stroke-opacity:1; fill:none\" points=\"1214.47,802.846 1232.47,766.846 1250.47,802.846 \"/>\n",
       "<polyline clip-path=\"url(#clip612)\" style=\"stroke:#808080; stroke-linecap:round; stroke-linejoin:round; stroke-width:4; stroke-opacity:1; fill:none\" points=\"1232.47,766.846 1232.47,1106.28 \"/>\n",
       "<circle clip-path=\"url(#clip612)\" cx=\"1232.47\" cy=\"766.846\" r=\"14.4\" fill=\"#0000ff\" fill-rule=\"evenodd\" fill-opacity=\"1\" stroke=\"#000000\" stroke-opacity=\"1\" stroke-width=\"3.2\"/>\n",
       "<polyline clip-path=\"url(#clip612)\" style=\"stroke:#808080; stroke-linecap:round; stroke-linejoin:round; stroke-width:4; stroke-opacity:1; fill:none\" points=\"1232.47,766.846 1232.47,427.411 \"/>\n",
       "<polyline clip-path=\"url(#clip612)\" style=\"stroke:#808080; stroke-linecap:round; stroke-linejoin:round; stroke-width:4; stroke-opacity:1; fill:none\" points=\"1214.47,463.411 1232.47,427.411 1250.47,463.411 \"/>\n",
       "<polyline clip-path=\"url(#clip612)\" style=\"stroke:#808080; stroke-linecap:round; stroke-linejoin:round; stroke-width:4; stroke-opacity:1; fill:none\" points=\"1232.47,427.411 1232.47,766.846 \"/>\n",
       "<circle clip-path=\"url(#clip612)\" cx=\"1232.47\" cy=\"427.411\" r=\"14.4\" fill=\"#0000ff\" fill-rule=\"evenodd\" fill-opacity=\"1\" stroke=\"#000000\" stroke-opacity=\"1\" stroke-width=\"3.2\"/>\n",
       "<polyline clip-path=\"url(#clip612)\" style=\"stroke:#808080; stroke-linecap:round; stroke-linejoin:round; stroke-width:4; stroke-opacity:1; fill:none\" points=\"1232.47,427.411 704.028,427.411 \"/>\n",
       "<polyline clip-path=\"url(#clip612)\" style=\"stroke:#808080; stroke-linecap:round; stroke-linejoin:round; stroke-width:4; stroke-opacity:1; fill:none\" points=\"740.028,445.411 704.028,427.411 740.028,409.411 \"/>\n",
       "<polyline clip-path=\"url(#clip612)\" style=\"stroke:#808080; stroke-linecap:round; stroke-linejoin:round; stroke-width:4; stroke-opacity:1; fill:none\" points=\"704.028,427.411 1232.47,427.411 \"/>\n",
       "<circle clip-path=\"url(#clip612)\" cx=\"175.59\" cy=\"1445.72\" r=\"14.4\" fill=\"#b0b0b0\" fill-rule=\"evenodd\" fill-opacity=\"1\" stroke=\"#000000\" stroke-opacity=\"1\" stroke-width=\"3.2\"/>\n",
       "<circle clip-path=\"url(#clip612)\" cx=\"175.59\" cy=\"1106.28\" r=\"21.6\" fill=\"#ff0000\" fill-rule=\"evenodd\" fill-opacity=\"1\" stroke=\"#000000\" stroke-opacity=\"1\" stroke-width=\"3.2\"/>\n",
       "<circle clip-path=\"url(#clip612)\" cx=\"175.59\" cy=\"766.846\" r=\"14.4\" fill=\"#b0b0b0\" fill-rule=\"evenodd\" fill-opacity=\"1\" stroke=\"#000000\" stroke-opacity=\"1\" stroke-width=\"3.2\"/>\n",
       "<circle clip-path=\"url(#clip612)\" cx=\"175.59\" cy=\"427.411\" r=\"14.4\" fill=\"#b0b0b0\" fill-rule=\"evenodd\" fill-opacity=\"1\" stroke=\"#000000\" stroke-opacity=\"1\" stroke-width=\"3.2\"/>\n",
       "<circle clip-path=\"url(#clip612)\" cx=\"175.59\" cy=\"87.9763\" r=\"14.4\" fill=\"#b0b0b0\" fill-rule=\"evenodd\" fill-opacity=\"1\" stroke=\"#000000\" stroke-opacity=\"1\" stroke-width=\"3.2\"/>\n",
       "<circle clip-path=\"url(#clip612)\" cx=\"704.028\" cy=\"1445.72\" r=\"14.4\" fill=\"#b0b0b0\" fill-rule=\"evenodd\" fill-opacity=\"1\" stroke=\"#000000\" stroke-opacity=\"1\" stroke-width=\"3.2\"/>\n",
       "<circle clip-path=\"url(#clip612)\" cx=\"704.028\" cy=\"1106.28\" r=\"21.6\" fill=\"#ff0000\" fill-rule=\"evenodd\" fill-opacity=\"1\" stroke=\"#000000\" stroke-opacity=\"1\" stroke-width=\"3.2\"/>\n",
       "<circle clip-path=\"url(#clip612)\" cx=\"704.028\" cy=\"766.846\" r=\"21.6\" fill=\"#ff0000\" fill-rule=\"evenodd\" fill-opacity=\"1\" stroke=\"#000000\" stroke-opacity=\"1\" stroke-width=\"3.2\"/>\n",
       "<circle clip-path=\"url(#clip612)\" cx=\"704.028\" cy=\"427.411\" r=\"21.6\" fill=\"#008000\" fill-rule=\"evenodd\" fill-opacity=\"1\" stroke=\"#000000\" stroke-opacity=\"1\" stroke-width=\"3.2\"/>\n",
       "<circle clip-path=\"url(#clip612)\" cx=\"704.028\" cy=\"87.9763\" r=\"14.4\" fill=\"#b0b0b0\" fill-rule=\"evenodd\" fill-opacity=\"1\" stroke=\"#000000\" stroke-opacity=\"1\" stroke-width=\"3.2\"/>\n",
       "<circle clip-path=\"url(#clip612)\" cx=\"1232.47\" cy=\"1445.72\" r=\"14.4\" fill=\"#b0b0b0\" fill-rule=\"evenodd\" fill-opacity=\"1\" stroke=\"#000000\" stroke-opacity=\"1\" stroke-width=\"3.2\"/>\n",
       "<circle clip-path=\"url(#clip612)\" cx=\"1232.47\" cy=\"1106.28\" r=\"14.4\" fill=\"#b0b0b0\" fill-rule=\"evenodd\" fill-opacity=\"1\" stroke=\"#000000\" stroke-opacity=\"1\" stroke-width=\"3.2\"/>\n",
       "<circle clip-path=\"url(#clip612)\" cx=\"1232.47\" cy=\"766.846\" r=\"14.4\" fill=\"#b0b0b0\" fill-rule=\"evenodd\" fill-opacity=\"1\" stroke=\"#000000\" stroke-opacity=\"1\" stroke-width=\"3.2\"/>\n",
       "<circle clip-path=\"url(#clip612)\" cx=\"1232.47\" cy=\"427.411\" r=\"14.4\" fill=\"#b0b0b0\" fill-rule=\"evenodd\" fill-opacity=\"1\" stroke=\"#000000\" stroke-opacity=\"1\" stroke-width=\"3.2\"/>\n",
       "<circle clip-path=\"url(#clip612)\" cx=\"1232.47\" cy=\"87.9763\" r=\"14.4\" fill=\"#b0b0b0\" fill-rule=\"evenodd\" fill-opacity=\"1\" stroke=\"#000000\" stroke-opacity=\"1\" stroke-width=\"3.2\"/>\n",
       "<circle clip-path=\"url(#clip612)\" cx=\"1760.9\" cy=\"1445.72\" r=\"14.4\" fill=\"#b0b0b0\" fill-rule=\"evenodd\" fill-opacity=\"1\" stroke=\"#000000\" stroke-opacity=\"1\" stroke-width=\"3.2\"/>\n",
       "<circle clip-path=\"url(#clip612)\" cx=\"1760.9\" cy=\"1106.28\" r=\"14.4\" fill=\"#b0b0b0\" fill-rule=\"evenodd\" fill-opacity=\"1\" stroke=\"#000000\" stroke-opacity=\"1\" stroke-width=\"3.2\"/>\n",
       "<circle clip-path=\"url(#clip612)\" cx=\"1760.9\" cy=\"766.846\" r=\"14.4\" fill=\"#b0b0b0\" fill-rule=\"evenodd\" fill-opacity=\"1\" stroke=\"#000000\" stroke-opacity=\"1\" stroke-width=\"3.2\"/>\n",
       "<circle clip-path=\"url(#clip612)\" cx=\"1760.9\" cy=\"427.411\" r=\"14.4\" fill=\"#b0b0b0\" fill-rule=\"evenodd\" fill-opacity=\"1\" stroke=\"#000000\" stroke-opacity=\"1\" stroke-width=\"3.2\"/>\n",
       "<circle clip-path=\"url(#clip612)\" cx=\"1760.9\" cy=\"87.9763\" r=\"21.6\" fill=\"#ff0000\" fill-rule=\"evenodd\" fill-opacity=\"1\" stroke=\"#000000\" stroke-opacity=\"1\" stroke-width=\"3.2\"/>\n",
       "<circle clip-path=\"url(#clip612)\" cx=\"2289.34\" cy=\"1445.72\" r=\"14.4\" fill=\"#b0b0b0\" fill-rule=\"evenodd\" fill-opacity=\"1\" stroke=\"#000000\" stroke-opacity=\"1\" stroke-width=\"3.2\"/>\n",
       "<circle clip-path=\"url(#clip612)\" cx=\"2289.34\" cy=\"1106.28\" r=\"14.4\" fill=\"#b0b0b0\" fill-rule=\"evenodd\" fill-opacity=\"1\" stroke=\"#000000\" stroke-opacity=\"1\" stroke-width=\"3.2\"/>\n",
       "<circle clip-path=\"url(#clip612)\" cx=\"2289.34\" cy=\"766.846\" r=\"14.4\" fill=\"#b0b0b0\" fill-rule=\"evenodd\" fill-opacity=\"1\" stroke=\"#000000\" stroke-opacity=\"1\" stroke-width=\"3.2\"/>\n",
       "<circle clip-path=\"url(#clip612)\" cx=\"2289.34\" cy=\"427.411\" r=\"14.4\" fill=\"#b0b0b0\" fill-rule=\"evenodd\" fill-opacity=\"1\" stroke=\"#000000\" stroke-opacity=\"1\" stroke-width=\"3.2\"/>\n",
       "<circle clip-path=\"url(#clip612)\" cx=\"2289.34\" cy=\"87.9763\" r=\"14.4\" fill=\"#b0b0b0\" fill-rule=\"evenodd\" fill-opacity=\"1\" stroke=\"#000000\" stroke-opacity=\"1\" stroke-width=\"3.2\"/>\n",
       "</svg>\n"
      ],
      "text/html": [
       "<?xml version=\"1.0\" encoding=\"utf-8\"?>\n",
       "<svg xmlns=\"http://www.w3.org/2000/svg\" xmlns:xlink=\"http://www.w3.org/1999/xlink\" width=\"600\" height=\"400\" viewBox=\"0 0 2400 1600\">\n",
       "<defs>\n",
       "  <clipPath id=\"clip660\">\n",
       "    <rect x=\"0\" y=\"0\" width=\"2400\" height=\"1600\"/>\n",
       "  </clipPath>\n",
       "</defs>\n",
       "<path clip-path=\"url(#clip660)\" d=\"M0 1600 L2400 1600 L2400 8.88178e-14 L0 8.88178e-14  Z\" fill=\"#ffffff\" fill-rule=\"evenodd\" fill-opacity=\"1\"/>\n",
       "<defs>\n",
       "  <clipPath id=\"clip661\">\n",
       "    <rect x=\"480\" y=\"0\" width=\"1681\" height=\"1600\"/>\n",
       "  </clipPath>\n",
       "</defs>\n",
       "<path clip-path=\"url(#clip660)\" d=\"M112.177 1486.45 L2352.76 1486.45 L2352.76 47.2441 L112.177 47.2441  Z\" fill=\"#ffffff\" fill-rule=\"evenodd\" fill-opacity=\"1\"/>\n",
       "<defs>\n",
       "  <clipPath id=\"clip662\">\n",
       "    <rect x=\"112\" y=\"47\" width=\"2242\" height=\"1440\"/>\n",
       "  </clipPath>\n",
       "</defs>\n",
       "<polyline clip-path=\"url(#clip662)\" style=\"stroke:#000000; stroke-linecap:round; stroke-linejoin:round; stroke-width:2; stroke-opacity:0.1; fill:none\" points=\"175.59,1486.45 175.59,47.2441 \"/>\n",
       "<polyline clip-path=\"url(#clip662)\" style=\"stroke:#000000; stroke-linecap:round; stroke-linejoin:round; stroke-width:2; stroke-opacity:0.1; fill:none\" points=\"704.028,1486.45 704.028,47.2441 \"/>\n",
       "<polyline clip-path=\"url(#clip662)\" style=\"stroke:#000000; stroke-linecap:round; stroke-linejoin:round; stroke-width:2; stroke-opacity:0.1; fill:none\" points=\"1232.47,1486.45 1232.47,47.2441 \"/>\n",
       "<polyline clip-path=\"url(#clip662)\" style=\"stroke:#000000; stroke-linecap:round; stroke-linejoin:round; stroke-width:2; stroke-opacity:0.1; fill:none\" points=\"1760.9,1486.45 1760.9,47.2441 \"/>\n",
       "<polyline clip-path=\"url(#clip662)\" style=\"stroke:#000000; stroke-linecap:round; stroke-linejoin:round; stroke-width:2; stroke-opacity:0.1; fill:none\" points=\"2289.34,1486.45 2289.34,47.2441 \"/>\n",
       "<polyline clip-path=\"url(#clip662)\" style=\"stroke:#000000; stroke-linecap:round; stroke-linejoin:round; stroke-width:2; stroke-opacity:0.1; fill:none\" points=\"112.177,1445.72 2352.76,1445.72 \"/>\n",
       "<polyline clip-path=\"url(#clip662)\" style=\"stroke:#000000; stroke-linecap:round; stroke-linejoin:round; stroke-width:2; stroke-opacity:0.1; fill:none\" points=\"112.177,1106.28 2352.76,1106.28 \"/>\n",
       "<polyline clip-path=\"url(#clip662)\" style=\"stroke:#000000; stroke-linecap:round; stroke-linejoin:round; stroke-width:2; stroke-opacity:0.1; fill:none\" points=\"112.177,766.846 2352.76,766.846 \"/>\n",
       "<polyline clip-path=\"url(#clip662)\" style=\"stroke:#000000; stroke-linecap:round; stroke-linejoin:round; stroke-width:2; stroke-opacity:0.1; fill:none\" points=\"112.177,427.411 2352.76,427.411 \"/>\n",
       "<polyline clip-path=\"url(#clip662)\" style=\"stroke:#000000; stroke-linecap:round; stroke-linejoin:round; stroke-width:2; stroke-opacity:0.1; fill:none\" points=\"112.177,87.9763 2352.76,87.9763 \"/>\n",
       "<circle clip-path=\"url(#clip662)\" cx=\"175.59\" cy=\"1445.72\" r=\"14.4\" fill=\"#0000ff\" fill-rule=\"evenodd\" fill-opacity=\"1\" stroke=\"#000000\" stroke-opacity=\"1\" stroke-width=\"3.2\"/>\n",
       "<polyline clip-path=\"url(#clip662)\" style=\"stroke:#808080; stroke-linecap:round; stroke-linejoin:round; stroke-width:4; stroke-opacity:1; fill:none\" points=\"175.59,1445.72 704.028,1445.72 \"/>\n",
       "<polyline clip-path=\"url(#clip662)\" style=\"stroke:#808080; stroke-linecap:round; stroke-linejoin:round; stroke-width:4; stroke-opacity:1; fill:none\" points=\"668.028,1427.72 704.028,1445.72 668.028,1463.72 \"/>\n",
       "<polyline clip-path=\"url(#clip662)\" style=\"stroke:#808080; stroke-linecap:round; stroke-linejoin:round; stroke-width:4; stroke-opacity:1; fill:none\" points=\"704.028,1445.72 175.59,1445.72 \"/>\n",
       "<circle clip-path=\"url(#clip662)\" cx=\"704.028\" cy=\"1445.72\" r=\"14.4\" fill=\"#0000ff\" fill-rule=\"evenodd\" fill-opacity=\"1\" stroke=\"#000000\" stroke-opacity=\"1\" stroke-width=\"3.2\"/>\n",
       "<polyline clip-path=\"url(#clip662)\" style=\"stroke:#808080; stroke-linecap:round; stroke-linejoin:round; stroke-width:4; stroke-opacity:1; fill:none\" points=\"704.028,1445.72 1232.47,1445.72 \"/>\n",
       "<polyline clip-path=\"url(#clip662)\" style=\"stroke:#808080; stroke-linecap:round; stroke-linejoin:round; stroke-width:4; stroke-opacity:1; fill:none\" points=\"1196.47,1427.72 1232.47,1445.72 1196.47,1463.72 \"/>\n",
       "<polyline clip-path=\"url(#clip662)\" style=\"stroke:#808080; stroke-linecap:round; stroke-linejoin:round; stroke-width:4; stroke-opacity:1; fill:none\" points=\"1232.47,1445.72 704.028,1445.72 \"/>\n",
       "<circle clip-path=\"url(#clip662)\" cx=\"1232.47\" cy=\"1445.72\" r=\"14.4\" fill=\"#0000ff\" fill-rule=\"evenodd\" fill-opacity=\"1\" stroke=\"#000000\" stroke-opacity=\"1\" stroke-width=\"3.2\"/>\n",
       "<polyline clip-path=\"url(#clip662)\" style=\"stroke:#808080; stroke-linecap:round; stroke-linejoin:round; stroke-width:4; stroke-opacity:1; fill:none\" points=\"1232.47,1445.72 1232.47,1106.28 \"/>\n",
       "<polyline clip-path=\"url(#clip662)\" style=\"stroke:#808080; stroke-linecap:round; stroke-linejoin:round; stroke-width:4; stroke-opacity:1; fill:none\" points=\"1214.47,1142.28 1232.47,1106.28 1250.47,1142.28 \"/>\n",
       "<polyline clip-path=\"url(#clip662)\" style=\"stroke:#808080; stroke-linecap:round; stroke-linejoin:round; stroke-width:4; stroke-opacity:1; fill:none\" points=\"1232.47,1106.28 1232.47,1445.72 \"/>\n",
       "<circle clip-path=\"url(#clip662)\" cx=\"1232.47\" cy=\"1106.28\" r=\"14.4\" fill=\"#0000ff\" fill-rule=\"evenodd\" fill-opacity=\"1\" stroke=\"#000000\" stroke-opacity=\"1\" stroke-width=\"3.2\"/>\n",
       "<polyline clip-path=\"url(#clip662)\" style=\"stroke:#808080; stroke-linecap:round; stroke-linejoin:round; stroke-width:4; stroke-opacity:1; fill:none\" points=\"1232.47,1106.28 1232.47,766.846 \"/>\n",
       "<polyline clip-path=\"url(#clip662)\" style=\"stroke:#808080; stroke-linecap:round; stroke-linejoin:round; stroke-width:4; stroke-opacity:1; fill:none\" points=\"1214.47,802.846 1232.47,766.846 1250.47,802.846 \"/>\n",
       "<polyline clip-path=\"url(#clip662)\" style=\"stroke:#808080; stroke-linecap:round; stroke-linejoin:round; stroke-width:4; stroke-opacity:1; fill:none\" points=\"1232.47,766.846 1232.47,1106.28 \"/>\n",
       "<circle clip-path=\"url(#clip662)\" cx=\"1232.47\" cy=\"766.846\" r=\"14.4\" fill=\"#0000ff\" fill-rule=\"evenodd\" fill-opacity=\"1\" stroke=\"#000000\" stroke-opacity=\"1\" stroke-width=\"3.2\"/>\n",
       "<polyline clip-path=\"url(#clip662)\" style=\"stroke:#808080; stroke-linecap:round; stroke-linejoin:round; stroke-width:4; stroke-opacity:1; fill:none\" points=\"1232.47,766.846 1232.47,427.411 \"/>\n",
       "<polyline clip-path=\"url(#clip662)\" style=\"stroke:#808080; stroke-linecap:round; stroke-linejoin:round; stroke-width:4; stroke-opacity:1; fill:none\" points=\"1214.47,463.411 1232.47,427.411 1250.47,463.411 \"/>\n",
       "<polyline clip-path=\"url(#clip662)\" style=\"stroke:#808080; stroke-linecap:round; stroke-linejoin:round; stroke-width:4; stroke-opacity:1; fill:none\" points=\"1232.47,427.411 1232.47,766.846 \"/>\n",
       "<circle clip-path=\"url(#clip662)\" cx=\"1232.47\" cy=\"427.411\" r=\"14.4\" fill=\"#0000ff\" fill-rule=\"evenodd\" fill-opacity=\"1\" stroke=\"#000000\" stroke-opacity=\"1\" stroke-width=\"3.2\"/>\n",
       "<polyline clip-path=\"url(#clip662)\" style=\"stroke:#808080; stroke-linecap:round; stroke-linejoin:round; stroke-width:4; stroke-opacity:1; fill:none\" points=\"1232.47,427.411 704.028,427.411 \"/>\n",
       "<polyline clip-path=\"url(#clip662)\" style=\"stroke:#808080; stroke-linecap:round; stroke-linejoin:round; stroke-width:4; stroke-opacity:1; fill:none\" points=\"740.028,445.411 704.028,427.411 740.028,409.411 \"/>\n",
       "<polyline clip-path=\"url(#clip662)\" style=\"stroke:#808080; stroke-linecap:round; stroke-linejoin:round; stroke-width:4; stroke-opacity:1; fill:none\" points=\"704.028,427.411 1232.47,427.411 \"/>\n",
       "<circle clip-path=\"url(#clip662)\" cx=\"175.59\" cy=\"1445.72\" r=\"14.4\" fill=\"#b0b0b0\" fill-rule=\"evenodd\" fill-opacity=\"1\" stroke=\"#000000\" stroke-opacity=\"1\" stroke-width=\"3.2\"/>\n",
       "<circle clip-path=\"url(#clip662)\" cx=\"175.59\" cy=\"1106.28\" r=\"21.6\" fill=\"#ff0000\" fill-rule=\"evenodd\" fill-opacity=\"1\" stroke=\"#000000\" stroke-opacity=\"1\" stroke-width=\"3.2\"/>\n",
       "<circle clip-path=\"url(#clip662)\" cx=\"175.59\" cy=\"766.846\" r=\"14.4\" fill=\"#b0b0b0\" fill-rule=\"evenodd\" fill-opacity=\"1\" stroke=\"#000000\" stroke-opacity=\"1\" stroke-width=\"3.2\"/>\n",
       "<circle clip-path=\"url(#clip662)\" cx=\"175.59\" cy=\"427.411\" r=\"14.4\" fill=\"#b0b0b0\" fill-rule=\"evenodd\" fill-opacity=\"1\" stroke=\"#000000\" stroke-opacity=\"1\" stroke-width=\"3.2\"/>\n",
       "<circle clip-path=\"url(#clip662)\" cx=\"175.59\" cy=\"87.9763\" r=\"14.4\" fill=\"#b0b0b0\" fill-rule=\"evenodd\" fill-opacity=\"1\" stroke=\"#000000\" stroke-opacity=\"1\" stroke-width=\"3.2\"/>\n",
       "<circle clip-path=\"url(#clip662)\" cx=\"704.028\" cy=\"1445.72\" r=\"14.4\" fill=\"#b0b0b0\" fill-rule=\"evenodd\" fill-opacity=\"1\" stroke=\"#000000\" stroke-opacity=\"1\" stroke-width=\"3.2\"/>\n",
       "<circle clip-path=\"url(#clip662)\" cx=\"704.028\" cy=\"1106.28\" r=\"21.6\" fill=\"#ff0000\" fill-rule=\"evenodd\" fill-opacity=\"1\" stroke=\"#000000\" stroke-opacity=\"1\" stroke-width=\"3.2\"/>\n",
       "<circle clip-path=\"url(#clip662)\" cx=\"704.028\" cy=\"766.846\" r=\"21.6\" fill=\"#ff0000\" fill-rule=\"evenodd\" fill-opacity=\"1\" stroke=\"#000000\" stroke-opacity=\"1\" stroke-width=\"3.2\"/>\n",
       "<circle clip-path=\"url(#clip662)\" cx=\"704.028\" cy=\"427.411\" r=\"21.6\" fill=\"#008000\" fill-rule=\"evenodd\" fill-opacity=\"1\" stroke=\"#000000\" stroke-opacity=\"1\" stroke-width=\"3.2\"/>\n",
       "<circle clip-path=\"url(#clip662)\" cx=\"704.028\" cy=\"87.9763\" r=\"14.4\" fill=\"#b0b0b0\" fill-rule=\"evenodd\" fill-opacity=\"1\" stroke=\"#000000\" stroke-opacity=\"1\" stroke-width=\"3.2\"/>\n",
       "<circle clip-path=\"url(#clip662)\" cx=\"1232.47\" cy=\"1445.72\" r=\"14.4\" fill=\"#b0b0b0\" fill-rule=\"evenodd\" fill-opacity=\"1\" stroke=\"#000000\" stroke-opacity=\"1\" stroke-width=\"3.2\"/>\n",
       "<circle clip-path=\"url(#clip662)\" cx=\"1232.47\" cy=\"1106.28\" r=\"14.4\" fill=\"#b0b0b0\" fill-rule=\"evenodd\" fill-opacity=\"1\" stroke=\"#000000\" stroke-opacity=\"1\" stroke-width=\"3.2\"/>\n",
       "<circle clip-path=\"url(#clip662)\" cx=\"1232.47\" cy=\"766.846\" r=\"14.4\" fill=\"#b0b0b0\" fill-rule=\"evenodd\" fill-opacity=\"1\" stroke=\"#000000\" stroke-opacity=\"1\" stroke-width=\"3.2\"/>\n",
       "<circle clip-path=\"url(#clip662)\" cx=\"1232.47\" cy=\"427.411\" r=\"14.4\" fill=\"#b0b0b0\" fill-rule=\"evenodd\" fill-opacity=\"1\" stroke=\"#000000\" stroke-opacity=\"1\" stroke-width=\"3.2\"/>\n",
       "<circle clip-path=\"url(#clip662)\" cx=\"1232.47\" cy=\"87.9763\" r=\"14.4\" fill=\"#b0b0b0\" fill-rule=\"evenodd\" fill-opacity=\"1\" stroke=\"#000000\" stroke-opacity=\"1\" stroke-width=\"3.2\"/>\n",
       "<circle clip-path=\"url(#clip662)\" cx=\"1760.9\" cy=\"1445.72\" r=\"14.4\" fill=\"#b0b0b0\" fill-rule=\"evenodd\" fill-opacity=\"1\" stroke=\"#000000\" stroke-opacity=\"1\" stroke-width=\"3.2\"/>\n",
       "<circle clip-path=\"url(#clip662)\" cx=\"1760.9\" cy=\"1106.28\" r=\"14.4\" fill=\"#b0b0b0\" fill-rule=\"evenodd\" fill-opacity=\"1\" stroke=\"#000000\" stroke-opacity=\"1\" stroke-width=\"3.2\"/>\n",
       "<circle clip-path=\"url(#clip662)\" cx=\"1760.9\" cy=\"766.846\" r=\"14.4\" fill=\"#b0b0b0\" fill-rule=\"evenodd\" fill-opacity=\"1\" stroke=\"#000000\" stroke-opacity=\"1\" stroke-width=\"3.2\"/>\n",
       "<circle clip-path=\"url(#clip662)\" cx=\"1760.9\" cy=\"427.411\" r=\"14.4\" fill=\"#b0b0b0\" fill-rule=\"evenodd\" fill-opacity=\"1\" stroke=\"#000000\" stroke-opacity=\"1\" stroke-width=\"3.2\"/>\n",
       "<circle clip-path=\"url(#clip662)\" cx=\"1760.9\" cy=\"87.9763\" r=\"21.6\" fill=\"#ff0000\" fill-rule=\"evenodd\" fill-opacity=\"1\" stroke=\"#000000\" stroke-opacity=\"1\" stroke-width=\"3.2\"/>\n",
       "<circle clip-path=\"url(#clip662)\" cx=\"2289.34\" cy=\"1445.72\" r=\"14.4\" fill=\"#b0b0b0\" fill-rule=\"evenodd\" fill-opacity=\"1\" stroke=\"#000000\" stroke-opacity=\"1\" stroke-width=\"3.2\"/>\n",
       "<circle clip-path=\"url(#clip662)\" cx=\"2289.34\" cy=\"1106.28\" r=\"14.4\" fill=\"#b0b0b0\" fill-rule=\"evenodd\" fill-opacity=\"1\" stroke=\"#000000\" stroke-opacity=\"1\" stroke-width=\"3.2\"/>\n",
       "<circle clip-path=\"url(#clip662)\" cx=\"2289.34\" cy=\"766.846\" r=\"14.4\" fill=\"#b0b0b0\" fill-rule=\"evenodd\" fill-opacity=\"1\" stroke=\"#000000\" stroke-opacity=\"1\" stroke-width=\"3.2\"/>\n",
       "<circle clip-path=\"url(#clip662)\" cx=\"2289.34\" cy=\"427.411\" r=\"14.4\" fill=\"#b0b0b0\" fill-rule=\"evenodd\" fill-opacity=\"1\" stroke=\"#000000\" stroke-opacity=\"1\" stroke-width=\"3.2\"/>\n",
       "<circle clip-path=\"url(#clip662)\" cx=\"2289.34\" cy=\"87.9763\" r=\"14.4\" fill=\"#b0b0b0\" fill-rule=\"evenodd\" fill-opacity=\"1\" stroke=\"#000000\" stroke-opacity=\"1\" stroke-width=\"3.2\"/>\n",
       "</svg>\n"
      ]
     },
     "execution_count": 16,
     "metadata": {},
     "output_type": "execute_result"
    }
   ],
   "source": [
    "# draw the path -\n",
    "p = plot();\n",
    "s = (1,1);\n",
    "\n",
    "visited_sites = Set{Tuple{Int,Int}}();\n",
    "# push!(visited_sites, initial_site);\n",
    "\n",
    "while (in(s, absorbing_state_set) == false)\n",
    "\n",
    "    state = world.states[s];\n",
    "    a = my_π[state];\n",
    "    Δ = world.moves[a];\n",
    "    s_next =  s .+ Δ\n",
    "\n",
    "    scatter!([s[1]],[s[2]], label=\"\", showaxis=:false, msc=:black, c=:blue)\n",
    "    plot!([s[1], s_next[1]],[s[2], s_next[2]], label=\"\", arrow=true, lw=1, c=:gray)\n",
    "    \n",
    "    if (haskey(world.states, s_next) == true)\n",
    "        push!(visited_sites, s_next);\n",
    "        s = s_next;\n",
    "    end\n",
    "end\n",
    "\n",
    "# draw the grid -\n",
    "for s ∈ 𝒮\n",
    "    \n",
    "    current_position = world.coordinates[s]\n",
    "    a = my_π[s];\n",
    "    Δ = world.moves[a];\n",
    "    new_position =  current_position .+ Δ\n",
    "    \n",
    "    if (haskey(rewards, current_position) == true && rewards[current_position] == charging_reward)\n",
    "        scatter!([current_position[1]],[current_position[2]], label=\"\", showaxis=:false, c=:green, ms=6)\n",
    "    elseif (haskey(rewards, current_position) == true && rewards[current_position] == lava_reward)\n",
    "        scatter!([current_position[1]],[current_position[2]], label=\"\", showaxis=:false, c=:red, ms=6)\n",
    "    else (in(current_position, soft_wall_set) == true)\n",
    "        scatter!([current_position[1]],[current_position[2]], label=\"\", showaxis=:false, c=:gray69, ms=4)\n",
    "    end\n",
    "end\n",
    "current()"
   ]
  },
  {
   "cell_type": "code",
   "execution_count": null,
   "id": "163f31e7-f9a3-43df-8a2c-1a4d32f709e4",
   "metadata": {},
   "outputs": [],
   "source": []
  }
 ],
 "metadata": {
  "kernelspec": {
   "display_name": "Julia 1.10.2",
   "language": "julia",
   "name": "julia-1.10"
  },
  "language_info": {
   "file_extension": ".jl",
   "mimetype": "application/julia",
   "name": "julia",
   "version": "1.10.2"
  }
 },
 "nbformat": 4,
 "nbformat_minor": 5
}
