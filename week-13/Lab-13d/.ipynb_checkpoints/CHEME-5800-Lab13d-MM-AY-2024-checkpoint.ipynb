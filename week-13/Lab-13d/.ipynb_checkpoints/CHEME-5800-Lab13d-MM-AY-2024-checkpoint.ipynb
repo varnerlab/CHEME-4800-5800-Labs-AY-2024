{
 "cells": [
  {
   "cell_type": "markdown",
   "id": "3c2a9ef3-400a-4be7-874b-02f2fb425b5d",
   "metadata": {},
   "source": [
    "# Lab 13d: Let's build a Markov Model of a Commodity Price Series\n",
    "Suppose you have a process whose financial performance is strongly sensitive to the price of raw materials, e.g., energy, such as [electricity or natural gas prices](https://www.eia.gov/electricity/wholesale/#history). "
   ]
  },
  {
   "cell_type": "markdown",
   "id": "1f687d9d-00ea-4858-82ba-644a73ecb996",
   "metadata": {},
   "source": [
    "## Setup"
   ]
  },
  {
   "cell_type": "code",
   "execution_count": 1,
   "id": "31591712-2a05-4ea5-92d4-9f04eff6dd7c",
   "metadata": {},
   "outputs": [
    {
     "name": "stderr",
     "output_type": "stream",
     "text": [
      "\u001b[32m\u001b[1m  Activating\u001b[22m\u001b[39m project at `~/Desktop/julia_work/CHEME-4800-5800-Labs-AY-2024/week-13/Lab-13d`\n",
      "\u001b[32m\u001b[1m  No Changes\u001b[22m\u001b[39m to `~/Desktop/julia_work/CHEME-4800-5800-Labs-AY-2024/week-13/Lab-13d/Project.toml`\n",
      "\u001b[32m\u001b[1m  No Changes\u001b[22m\u001b[39m to `~/Desktop/julia_work/CHEME-4800-5800-Labs-AY-2024/week-13/Lab-13d/Manifest.toml`\n",
      "\u001b[32m\u001b[1m    Updating\u001b[22m\u001b[39m registry at `~/.julia/registries/General.toml`\n",
      "\u001b[32m\u001b[1m  No Changes\u001b[22m\u001b[39m to `~/Desktop/julia_work/CHEME-4800-5800-Labs-AY-2024/week-13/Lab-13d/Project.toml`\n",
      "\u001b[32m\u001b[1m  No Changes\u001b[22m\u001b[39m to `~/Desktop/julia_work/CHEME-4800-5800-Labs-AY-2024/week-13/Lab-13d/Manifest.toml`\n"
     ]
    }
   ],
   "source": [
    "include(\"Include.jl\");"
   ]
  },
  {
   "cell_type": "markdown",
   "id": "5eea45c8-3766-461c-bb13-6b3c8b2b7ebb",
   "metadata": {},
   "source": [
    "## Prerequisites "
   ]
  },
  {
   "cell_type": "code",
   "execution_count": 2,
   "id": "6df42777-fcae-4870-b284-4f0709a9a807",
   "metadata": {},
   "outputs": [],
   "source": [
    "# initialize -\n",
    "dataset = Dict{String,DataFrame}();\n",
    "risk_free_rate = 0.05;\n",
    "\n",
    "# load the price dataset full dataset, remove firms with missing data -\n",
    "original_dataset = MyPortfolioDataSet() |> x->x[\"dataset\"];\n",
    "maximum_number_trading_days = original_dataset[\"AAPL\"] |> nrow;\n",
    "for (ticker,data) ∈ original_dataset\n",
    "    if (nrow(data) == maximum_number_trading_days)\n",
    "        dataset[ticker] = data;\n",
    "    end\n",
    "end\n",
    "my_list_of_tickers = keys(dataset) |> collect |> x->sort(x);\n",
    "\n",
    "# what ticker?\n",
    "ticker = \"SPY\"\n",
    "idx_ticker = findfirst(x->x==ticker, my_list_of_tickers);\n",
    "\n",
    "# compute the growth rate matrix -\n",
    "market_matrix = μ(dataset, my_list_of_tickers, risk_free_rate = risk_free_rate) |> x-> transpose(x) |> Matrix;\n",
    "Rₘ = market_matrix[idx_ticker, :]; # this is growth rate of the price"
   ]
  },
  {
   "cell_type": "markdown",
   "id": "601615a8-1b27-49b3-934c-ace1caa02baf",
   "metadata": {},
   "source": [
    "## Setup the states $\\mathcal{S}$, the emission matrix $\\mathbf{E}$ and transition matrix $\\mathbf{T}$"
   ]
  },
  {
   "cell_type": "code",
   "execution_count": 3,
   "id": "08cd8fca-674f-4c1a-b066-2b0df00c68a1",
   "metadata": {},
   "outputs": [],
   "source": [
    "number_of_states = 10;\n",
    "states = range(1,stop=number_of_states) |> collect;"
   ]
  },
  {
   "cell_type": "markdown",
   "id": "f968703b-ca20-4c32-b26d-db37ae503d0b",
   "metadata": {},
   "source": [
    "Next, set up the emissions matrix $\\mathbf{E}$. For this example, we assume that the states are __fully observable__, i.e., we can see the states directly. Thus, the emission matrix $\\mathbf{E}$ is the identity matrix $\\mathbf{I}$:"
   ]
  },
  {
   "cell_type": "code",
   "execution_count": 4,
   "id": "d04bba8a-a9b8-4697-b6dc-d06dd3643fd4",
   "metadata": {},
   "outputs": [],
   "source": [
    "E = diagm(ones(number_of_states));"
   ]
  },
  {
   "cell_type": "markdown",
   "id": "34ad667f-3b10-4f70-8f90-86a2e2d727c0",
   "metadata": {},
   "source": [
    "To compute the transition matrix $\\mathbf{T}$, we'll estimate the transition probabilities from the return data calculated in the `Prerequisites` section and saved in the `Rₘ` variable:\n",
    "* Let's split the data into two blocks: the first (which we'll call `in-sample`) will be used to estimate the elements of the matrix $\\mathbf{T}$, while the second (which we'll call `out-of-sample`) will be used for testing purposes."
   ]
  },
  {
   "cell_type": "code",
   "execution_count": 5,
   "id": "9f660cb6-6e83-4f72-9da0-983c96b704ef",
   "metadata": {},
   "outputs": [],
   "source": [
    "split_fraction = 0.80;\n",
    "insample_end_index = round(split_fraction*length(Rₘ),digits=0) |> Int\n",
    "in_sample_dataset = Rₘ[1:insample_end_index]\n",
    "out_of_sample_dataset = Rₘ[(insample_end_index+1):end];"
   ]
  },
  {
   "cell_type": "code",
   "execution_count": 6,
   "id": "66998588-5052-4465-93aa-b55bd0ceb484",
   "metadata": {},
   "outputs": [],
   "source": [
    "d = fit_mle(Normal, Rₘ); # not *really* normal, but we'll do make this assumption"
   ]
  },
  {
   "cell_type": "code",
   "execution_count": 7,
   "id": "dabed972-c09a-4539-91ad-3abc4429720a",
   "metadata": {},
   "outputs": [
    {
     "data": {
      "text/plain": [
       "-Inf"
      ]
     },
     "execution_count": 7,
     "metadata": {},
     "output_type": "execute_result"
    }
   ],
   "source": [
    "q = quantile(d,0.0)"
   ]
  },
  {
   "cell_type": "code",
   "execution_count": 8,
   "id": "3930c894-f2fa-429f-b457-11e520070faf",
   "metadata": {},
   "outputs": [
    {
     "data": {
      "text/plain": [
       "11-element Vector{Float64}:\n",
       " 0.0\n",
       " 0.1\n",
       " 0.2\n",
       " 0.3\n",
       " 0.4\n",
       " 0.5\n",
       " 0.6\n",
       " 0.7\n",
       " 0.8\n",
       " 0.9\n",
       " 1.0"
      ]
     },
     "execution_count": 8,
     "metadata": {},
     "output_type": "execute_result"
    }
   ],
   "source": [
    "percentage_cutoff = range(0.0,stop=1.0,length=(number_of_states+1)) |> collect"
   ]
  },
  {
   "cell_type": "code",
   "execution_count": 9,
   "id": "3539c8bf-92cd-4b37-97c0-3985ce9085a3",
   "metadata": {},
   "outputs": [],
   "source": [
    "bounds = Array{Float64,2}(undef, number_of_states,2)\n",
    "for s ∈ states\n",
    "    bounds[s,1] = quantile(d,percentage_cutoff[s])\n",
    "    bounds[s,2] = quantile(d,percentage_cutoff[s+1])\n",
    "end"
   ]
  },
  {
   "cell_type": "code",
   "execution_count": 10,
   "id": "59edf0fe-ea44-47c0-8d11-296030baf7a6",
   "metadata": {},
   "outputs": [
    {
     "data": {
      "text/plain": [
       "10×2 Matrix{Float64}:\n",
       " -Inf         -3.14438\n",
       "  -3.14438    -2.04611\n",
       "  -2.04611    -1.25419\n",
       "  -1.25419    -0.577516\n",
       "  -0.577516    0.0549521\n",
       "   0.0549521   0.687421\n",
       "   0.687421    1.36409\n",
       "   1.36409     2.15602\n",
       "   2.15602     3.25428\n",
       "   3.25428    Inf"
      ]
     },
     "execution_count": 10,
     "metadata": {},
     "output_type": "execute_result"
    }
   ],
   "source": [
    "bounds"
   ]
  },
  {
   "cell_type": "code",
   "execution_count": 11,
   "id": "3f188431-6346-4339-a036-b8a86b322c3d",
   "metadata": {},
   "outputs": [
    {
     "name": "stdout",
     "output_type": "stream",
     "text": [
      "i = 1\n",
      "i = 2\n",
      "i = 3\n",
      "i = 4\n",
      "i = 5\n",
      "i = 6\n",
      "i = 7\n"
     ]
    }
   ],
   "source": [
    "test_value = 1.6;"
   ]
  },
  {
   "cell_type": "code",
   "execution_count": 14,
   "id": "f2d5bf65-1220-4d1d-85ae-7984043ca677",
   "metadata": {},
   "outputs": [
    {
     "ename": "LoadError",
     "evalue": "ParseError:\n\u001b[90m# Error @ \u001b[0;0m\u001b]8;;file:///Users/jeffreyvarner/Desktop/julia_work/CHEME-4800-5800-Labs-AY-2024/week-13/Lab-13d/In[14]#12:5\u001b\\\u001b[90mIn[14]:12:5\u001b[0;0m\u001b]8;;\u001b\\\n    # return -\n    \u001b[48;2;120;70;70mreturn class_index\u001b[0;0m\n\u001b[90m#   └────────────────┘ ── \u001b[0;0m\u001b[91mExpected `)`\u001b[0;0m",
     "output_type": "error",
     "traceback": [
      "ParseError:\n\u001b[90m# Error @ \u001b[0;0m\u001b]8;;file:///Users/jeffreyvarner/Desktop/julia_work/CHEME-4800-5800-Labs-AY-2024/week-13/Lab-13d/In[14]#12:5\u001b\\\u001b[90mIn[14]:12:5\u001b[0;0m\u001b]8;;\u001b\\\n    # return -\n    \u001b[48;2;120;70;70mreturn class_index\u001b[0;0m\n\u001b[90m#   └────────────────┘ ── \u001b[0;0m\u001b[91mExpected `)`\u001b[0;0m",
      "",
      "Stacktrace:",
      " [1] top-level scope",
      "   @ In[14]:12"
     ]
    }
   ],
   "source": [
    "test_encode = encode(in_sample_dataset, (value) -> (\n",
    "\n",
    "    class_index = 1;\n",
    "    for i ∈ 1:number_of_states\n",
    "        if (bounds[i,1] ≤ test_value && test_value < bounds[i,2])\n",
    "            class_index = i;\n",
    "            break;\n",
    "        end\n",
    "    end\n",
    "\n",
    "    # return -\n",
    "    return class_index)\n",
    ");"
   ]
  },
  {
   "cell_type": "code",
   "execution_count": null,
   "id": "7f2cf498-f07c-4b61-a0aa-14c108376738",
   "metadata": {},
   "outputs": [],
   "source": []
  }
 ],
 "metadata": {
  "kernelspec": {
   "display_name": "Julia 1.10.2",
   "language": "julia",
   "name": "julia-1.10"
  },
  "language_info": {
   "file_extension": ".jl",
   "mimetype": "application/julia",
   "name": "julia",
   "version": "1.10.2"
  }
 },
 "nbformat": 4,
 "nbformat_minor": 5
}
