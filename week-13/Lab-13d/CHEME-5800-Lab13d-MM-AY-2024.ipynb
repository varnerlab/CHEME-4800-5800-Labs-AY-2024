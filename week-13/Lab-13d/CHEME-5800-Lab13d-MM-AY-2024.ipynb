{
 "cells": [
  {
   "cell_type": "markdown",
   "id": "3c2a9ef3-400a-4be7-874b-02f2fb425b5d",
   "metadata": {},
   "source": [
    "# Lab 13d: Let's build an Observable Markov Model of a Stock Returns\n",
    "Fill me in"
   ]
  },
  {
   "cell_type": "markdown",
   "id": "1f687d9d-00ea-4858-82ba-644a73ecb996",
   "metadata": {},
   "source": [
    "## Setup"
   ]
  },
  {
   "cell_type": "code",
   "execution_count": 1,
   "id": "31591712-2a05-4ea5-92d4-9f04eff6dd7c",
   "metadata": {},
   "outputs": [
    {
     "name": "stderr",
     "output_type": "stream",
     "text": [
      "\u001b[32m\u001b[1m  Activating\u001b[22m\u001b[39m project at `~/Desktop/julia_work/CHEME-4800-5800-Labs-AY-2024/week-13/Lab-13d`\n",
      "\u001b[32m\u001b[1m  No Changes\u001b[22m\u001b[39m to `~/Desktop/julia_work/CHEME-4800-5800-Labs-AY-2024/week-13/Lab-13d/Project.toml`\n",
      "\u001b[32m\u001b[1m  No Changes\u001b[22m\u001b[39m to `~/Desktop/julia_work/CHEME-4800-5800-Labs-AY-2024/week-13/Lab-13d/Manifest.toml`\n",
      "\u001b[32m\u001b[1m    Updating\u001b[22m\u001b[39m registry at `~/.julia/registries/General.toml`\n",
      "\u001b[32m\u001b[1m  No Changes\u001b[22m\u001b[39m to `~/Desktop/julia_work/CHEME-4800-5800-Labs-AY-2024/week-13/Lab-13d/Project.toml`\n",
      "\u001b[32m\u001b[1m  No Changes\u001b[22m\u001b[39m to `~/Desktop/julia_work/CHEME-4800-5800-Labs-AY-2024/week-13/Lab-13d/Manifest.toml`\n"
     ]
    }
   ],
   "source": [
    "include(\"Include.jl\");"
   ]
  },
  {
   "cell_type": "markdown",
   "id": "5eea45c8-3766-461c-bb13-6b3c8b2b7ebb",
   "metadata": {},
   "source": [
    "## Prerequisites "
   ]
  },
  {
   "cell_type": "code",
   "execution_count": 2,
   "id": "6df42777-fcae-4870-b284-4f0709a9a807",
   "metadata": {},
   "outputs": [],
   "source": [
    "# initialize -\n",
    "dataset = Dict{String,DataFrame}();\n",
    "risk_free_rate = 0.05;\n",
    "\n",
    "# load the price dataset full dataset, remove firms with missing data -\n",
    "original_dataset = MyPortfolioDataSet() |> x->x[\"dataset\"];\n",
    "maximum_number_trading_days = original_dataset[\"AAPL\"] |> nrow;\n",
    "for (ticker,data) ∈ original_dataset\n",
    "    if (nrow(data) == maximum_number_trading_days)\n",
    "        dataset[ticker] = data;\n",
    "    end\n",
    "end\n",
    "my_list_of_tickers = keys(dataset) |> collect |> x->sort(x);\n",
    "\n",
    "# what ticker?\n",
    "ticker = \"SPY\"\n",
    "idx_ticker = findfirst(x->x==ticker, my_list_of_tickers);\n",
    "\n",
    "# compute the growth rate matrix -\n",
    "market_matrix = μ(dataset, my_list_of_tickers, risk_free_rate = risk_free_rate) |> x-> transpose(x) |> Matrix;\n",
    "Rₘ = market_matrix[idx_ticker, :]; # this is growth rate of the price"
   ]
  },
  {
   "cell_type": "markdown",
   "id": "601615a8-1b27-49b3-934c-ace1caa02baf",
   "metadata": {},
   "source": [
    "## Setup the states $\\mathcal{S}$, the emission matrix $\\mathbf{E}$ and transition matrix $\\mathbf{T}$"
   ]
  },
  {
   "cell_type": "code",
   "execution_count": 3,
   "id": "08cd8fca-674f-4c1a-b066-2b0df00c68a1",
   "metadata": {},
   "outputs": [],
   "source": [
    "number_of_states = 5;\n",
    "states = range(1,stop=number_of_states) |> collect;"
   ]
  },
  {
   "cell_type": "markdown",
   "id": "f968703b-ca20-4c32-b26d-db37ae503d0b",
   "metadata": {},
   "source": [
    "Next, set up the emissions matrix $\\mathbf{E}$. For this example, we assume that the states are __fully observable__, i.e., we can see the states directly. Thus, the emission matrix $\\mathbf{E}$ is the identity matrix $\\mathbf{I}$:"
   ]
  },
  {
   "cell_type": "code",
   "execution_count": 4,
   "id": "d04bba8a-a9b8-4697-b6dc-d06dd3643fd4",
   "metadata": {},
   "outputs": [],
   "source": [
    "E = diagm(ones(number_of_states));"
   ]
  },
  {
   "cell_type": "markdown",
   "id": "34ad667f-3b10-4f70-8f90-86a2e2d727c0",
   "metadata": {},
   "source": [
    "To compute the transition matrix $\\mathbf{T}$, we'll estimate the transition probabilities from the return data calculated in the `Prerequisites` section and saved in the `Rₘ` variable:\n",
    "* Let's split the data into two blocks: the first (which we'll call `in-sample`) will be used to estimate the elements of the matrix $\\mathbf{T}$, while the second (which we'll call `out-of-sample`) will be used for testing purposes."
   ]
  },
  {
   "cell_type": "code",
   "execution_count": 5,
   "id": "9f660cb6-6e83-4f72-9da0-983c96b704ef",
   "metadata": {},
   "outputs": [],
   "source": [
    "split_fraction = 0.90;\n",
    "insample_end_index = round(split_fraction*length(Rₘ),digits=0) |> Int\n",
    "in_sample_dataset = Rₘ[1:insample_end_index]\n",
    "out_of_sample_dataset = Rₘ[(insample_end_index+1):end];"
   ]
  },
  {
   "cell_type": "code",
   "execution_count": 6,
   "id": "66998588-5052-4465-93aa-b55bd0ceb484",
   "metadata": {},
   "outputs": [],
   "source": [
    "d = fit_mle(Laplace, Rₘ); # use the *full* data set to establish the cutoff's"
   ]
  },
  {
   "cell_type": "code",
   "execution_count": 7,
   "id": "3930c894-f2fa-429f-b457-11e520070faf",
   "metadata": {},
   "outputs": [
    {
     "data": {
      "text/plain": [
       "6-element Vector{Float64}:\n",
       " 0.0\n",
       " 0.2\n",
       " 0.4\n",
       " 0.6\n",
       " 0.8\n",
       " 1.0"
      ]
     },
     "execution_count": 7,
     "metadata": {},
     "output_type": "execute_result"
    }
   ],
   "source": [
    "percentage_cutoff = range(0.0,stop=1.0,length=(number_of_states+1)) |> collect"
   ]
  },
  {
   "cell_type": "code",
   "execution_count": 8,
   "id": "3539c8bf-92cd-4b37-97c0-3985ce9085a3",
   "metadata": {},
   "outputs": [
    {
     "data": {
      "text/plain": [
       "5×2 Matrix{Float64}:\n",
       " -Inf        -1.40451\n",
       "  -1.40451   -0.206636\n",
       "  -0.206636   0.56462\n",
       "   0.56462    1.76249\n",
       "   1.76249   Inf"
      ]
     },
     "execution_count": 8,
     "metadata": {},
     "output_type": "execute_result"
    }
   ],
   "source": [
    "bounds = Array{Float64,2}(undef, number_of_states,2)\n",
    "for s ∈ states\n",
    "    bounds[s,1] = quantile(d,percentage_cutoff[s])\n",
    "    bounds[s,2] = quantile(d,percentage_cutoff[s+1])\n",
    "end\n",
    "bounds"
   ]
  },
  {
   "cell_type": "code",
   "execution_count": 9,
   "id": "f2d5bf65-1220-4d1d-85ae-7984043ca677",
   "metadata": {},
   "outputs": [],
   "source": [
    "encoded_in_sample = Array{Int64,1}();\n",
    "for i ∈ eachindex(in_sample_dataset)\n",
    "    value = in_sample_dataset[i];\n",
    "\n",
    "    class_index = 1;\n",
    "    for s ∈ states\n",
    "        if (bounds[s,1] ≤ value && value < bounds[s,2])\n",
    "            class_index = s;\n",
    "            break;\n",
    "        end\n",
    "    end\n",
    "    push!(encoded_in_sample, class_index);\n",
    "end\n",
    "encoded_in_sample;"
   ]
  },
  {
   "cell_type": "code",
   "execution_count": 17,
   "id": "7f2cf498-f07c-4b61-a0aa-14c108376738",
   "metadata": {},
   "outputs": [
    {
     "data": {
      "text/plain": [
       "5×5 Matrix{Float64}:\n",
       " 110.0  44.0  28.0  44.0  75.0\n",
       "  61.0  57.0  46.0  63.0  29.0\n",
       "  46.0  55.0  77.0  57.0  36.0\n",
       "  39.0  60.0  74.0  68.0  58.0\n",
       "  45.0  40.0  47.0  66.0  75.0"
      ]
     },
     "execution_count": 17,
     "metadata": {},
     "output_type": "execute_result"
    }
   ],
   "source": [
    "T = zeros(number_of_states, number_of_states)\n",
    "for i ∈ 2:insample_end_index\n",
    "    start_index = encoded_in_sample[i-1];\n",
    "    stop_index = encoded_in_sample[i];\n",
    "    T[start_index,stop_index] += 1;\n",
    "end\n",
    "T"
   ]
  },
  {
   "cell_type": "code",
   "execution_count": 11,
   "id": "bff6e82d-4db3-453b-99c1-094e2d34ac10",
   "metadata": {},
   "outputs": [
    {
     "data": {
      "text/plain": [
       "5×5 Matrix{Float64}:\n",
       " 0.365449  0.146179  0.0930233  0.146179  0.249169\n",
       " 0.238281  0.222656  0.179688   0.246094  0.113281\n",
       " 0.169742  0.202952  0.284133   0.210332  0.132841\n",
       " 0.130435  0.200669  0.247492   0.227425  0.19398\n",
       " 0.164835  0.14652   0.172161   0.241758  0.274725"
      ]
     },
     "execution_count": 11,
     "metadata": {},
     "output_type": "execute_result"
    }
   ],
   "source": [
    "T̂ = zeros(number_of_states, number_of_states)\n",
    "for row ∈ states\n",
    "    Z = sum(T[row,:]);\n",
    "    for col ∈ states\n",
    "        T̂[row,col] = (1/Z)*T[row,col]\n",
    "    end\n",
    "end\n",
    "T̂"
   ]
  },
  {
   "cell_type": "code",
   "execution_count": 12,
   "id": "8e4f644d-774e-4bb6-82f7-7d909e03a511",
   "metadata": {},
   "outputs": [],
   "source": [
    "model = build(MyObservableMarkovModel, (\n",
    "    states = states,\n",
    "    T = T̂, \n",
    "    E = E\n",
    "));"
   ]
  },
  {
   "cell_type": "markdown",
   "id": "a695557e-ce39-4690-a1dd-7e4baf3ed5c4",
   "metadata": {},
   "source": [
    "## Simulate the Observable Markov Model (OMM)"
   ]
  },
  {
   "cell_type": "code",
   "execution_count": 22,
   "id": "ca16cd88-78e7-44ca-ac95-06d240610c44",
   "metadata": {},
   "outputs": [],
   "source": [
    "π̄ = (T̂^100) |> tmp -> Categorical(tmp[1,:]);"
   ]
  },
  {
   "cell_type": "code",
   "execution_count": 24,
   "id": "dbb8b2db-0c36-46d7-b973-e8c43428cfa4",
   "metadata": {},
   "outputs": [
    {
     "data": {
      "text/plain": [
       "252×10 Matrix{Int64}:\n",
       " 4  3  3  1  4  3  4  4  1  4\n",
       " 2  1  1  4  1  4  2  4  1  3\n",
       " 1  5  4  3  5  5  5  4  5  5\n",
       " 1  5  4  1  4  4  2  5  1  3\n",
       " 4  4  3  4  2  2  3  5  1  4\n",
       " 4  4  3  4  3  1  2  1  2  2\n",
       " 4  5  5  2  2  5  4  1  4  3\n",
       " 4  4  3  4  4  4  5  2  2  1\n",
       " 5  3  4  3  3  2  4  1  4  4\n",
       " 4  4  5  3  1  4  1  1  4  3\n",
       " 3  4  5  4  1  3  3  1  1  3\n",
       " 3  2  1  5  5  1  3  1  1  3\n",
       " 1  2  5  1  4  1  2  5  5  3\n",
       " ⋮              ⋮           \n",
       " 2  5  3  4  5  1  5  3  2  4\n",
       " 1  2  1  2  5  1  1  1  1  2\n",
       " 5  5  1  4  5  1  5  4  1  4\n",
       " 5  3  1  4  5  1  4  4  4  3\n",
       " 5  5  2  2  3  5  2  2  2  4\n",
       " 5  4  1  5  2  5  1  2  5  3\n",
       " 1  4  1  3  4  2  5  4  5  4\n",
       " 4  5  2  4  2  4  4  4  4  5\n",
       " 2  1  4  5  4  2  3  1  4  5\n",
       " 1  1  2  5  3  2  1  5  4  1\n",
       " 1  5  4  4  2  3  5  4  4  4\n",
       " 1  4  2  5  2  4  4  4  1  4"
      ]
     },
     "execution_count": 24,
     "metadata": {},
     "output_type": "execute_result"
    }
   ],
   "source": [
    "number_of_paths = 10;\n",
    "number_of_steps = 252; # average number of trading days per year\n",
    "archive = Array{Int64,2}(undef, number_of_steps, number_of_paths);\n",
    "for i ∈ 1:number_of_paths\n",
    "    start_state = rand(π̄);\n",
    "    tmp = model(start_state, number_of_steps)\n",
    "    for j ∈ 1:number_of_steps\n",
    "        archive[j,i] = tmp[j]\n",
    "    end\n",
    "end\n",
    "archive"
   ]
  },
  {
   "cell_type": "code",
   "execution_count": null,
   "id": "d26fca6f-6bb8-4409-b8ee-12dde3d37997",
   "metadata": {},
   "outputs": [],
   "source": []
  }
 ],
 "metadata": {
  "kernelspec": {
   "display_name": "Julia 1.10.2",
   "language": "julia",
   "name": "julia-1.10"
  },
  "language_info": {
   "file_extension": ".jl",
   "mimetype": "application/julia",
   "name": "julia",
   "version": "1.10.2"
  }
 },
 "nbformat": 4,
 "nbformat_minor": 5
}
