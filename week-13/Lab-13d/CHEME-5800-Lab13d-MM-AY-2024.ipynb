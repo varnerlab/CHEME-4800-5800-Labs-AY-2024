{
 "cells": [
  {
   "cell_type": "markdown",
   "id": "3c2a9ef3-400a-4be7-874b-02f2fb425b5d",
   "metadata": {},
   "source": [
    "# Lab 13d: Let's build an Observable Markov Model of a Stock Returns\n",
    "This lab will familiarize students with constructing an Observable Markov Model of the excess return of a ticker `XYZ` where we defined the excess return as:\n",
    "\n",
    "$$\n",
    "\\begin{equation*}\n",
    "R_{ij} = \\left(\\frac{1}{\\Delta{t}}\\right)\\cdot\\ln\\left(\\frac{S_{i,j}}{S_{i,j-1}}\\right) - \\bar{r}_{f}\n",
    "\\end{equation*}\n",
    "$$\n",
    "\n",
    "where $R_{ij}$ denotes the excess return of equity $i$ at time $j$, $\\Delta{t}$ denotes the time between $j-1\\rightarrow{j}$ (units: years), $S_{i,\\star}$ denotes the share price of equity $i$ at time $\\star$, and $\\bar{r}_{f}$ denotes the annualized risk free rate.\n",
    "\n",
    "## Tasks\n",
    "Describe the day-to-day variation of the excess return using a fully observable Markov model described by the tuple $\\mathcal{M} = (\\mathcal{S},\\mathcal{O},\\mathbf{P},\\mathbf{E})$; $\\mathcal{S}$ is the set of hidden states, $\\mathcal{O}$ is the set of observable states, $\\mathbf{P}$ is the transition matrix and $\\mathbf{E}$ is the emission matrix. Because we are fully observable, the emission matrix $\\mathbf{E} = \\mathbf{I}$, where $\\mathbf{I}$ is the identity matrix.\n",
    "\n",
    "* `Task 1`: Construct the states $\\mathcal{S}$, the emission matrix $\\mathbf{E}$ and transition matrix $\\hat{\\mathbf{T}}$\n",
    "    * `TODO`: Estimate the transition matrix $\\hat{\\mathbf{T}}$ from market data\n",
    "* `Task 2`: Simulate the Observable Markov Model (OMM) for an average trading year\n",
    "    * `TODO`: Generate the stationary distribution from the estimated $\\hat{\\mathbf{T}}$ matrix"
   ]
  },
  {
   "cell_type": "markdown",
   "id": "1f687d9d-00ea-4858-82ba-644a73ecb996",
   "metadata": {},
   "source": [
    "## Setup"
   ]
  },
  {
   "cell_type": "code",
   "execution_count": 1,
   "id": "31591712-2a05-4ea5-92d4-9f04eff6dd7c",
   "metadata": {},
   "outputs": [
    {
     "name": "stderr",
     "output_type": "stream",
     "text": [
      "\u001b[32m\u001b[1m  Activating\u001b[22m\u001b[39m project at `~/Desktop/julia_work/CHEME-4800-5800-Labs-AY-2024/week-13/Lab-13d`\n",
      "\u001b[32m\u001b[1m  No Changes\u001b[22m\u001b[39m to `~/Desktop/julia_work/CHEME-4800-5800-Labs-AY-2024/week-13/Lab-13d/Project.toml`\n",
      "\u001b[32m\u001b[1m  No Changes\u001b[22m\u001b[39m to `~/Desktop/julia_work/CHEME-4800-5800-Labs-AY-2024/week-13/Lab-13d/Manifest.toml`\n",
      "\u001b[32m\u001b[1mPrecompiling\u001b[22m\u001b[39m project...\n",
      "\u001b[32m  ✓ \u001b[39m\u001b[90mDataStructures\u001b[39m\n",
      "\u001b[32m  ✓ \u001b[39m\u001b[90mSortingAlgorithms\u001b[39m\n",
      "\u001b[32m  ✓ \u001b[39m\u001b[90mQuadGK\u001b[39m\n",
      "\u001b[32m  ✓ \u001b[39m\u001b[90mStatsBase\u001b[39m\n",
      "\u001b[32m  ✓ \u001b[39mDistributions\n",
      "\u001b[32m  ✓ \u001b[39mDataFrames\n",
      "  6 dependencies successfully precompiled in 18 seconds. 55 already precompiled.\n",
      "\u001b[32m\u001b[1m    Updating\u001b[22m\u001b[39m registry at `~/.julia/registries/General.toml`\n",
      "\u001b[32m\u001b[1m  No Changes\u001b[22m\u001b[39m to `~/Desktop/julia_work/CHEME-4800-5800-Labs-AY-2024/week-13/Lab-13d/Project.toml`\n",
      "\u001b[32m\u001b[1m    Updating\u001b[22m\u001b[39m `~/Desktop/julia_work/CHEME-4800-5800-Labs-AY-2024/week-13/Lab-13d/Manifest.toml`\n",
      "  \u001b[90m[864edb3b] \u001b[39m\u001b[93m↑ DataStructures v0.18.19 ⇒ v0.18.20\u001b[39m\n",
      "\u001b[32m\u001b[1mPrecompiling\u001b[22m\u001b[39m project...\n",
      "\u001b[32m  ✓ \u001b[39mDataFrames\n",
      "  1 dependency successfully precompiled in 15 seconds. 60 already precompiled.\n",
      "\u001b[36m\u001b[1m        Info\u001b[22m\u001b[39m We haven't cleaned this depot up for a bit, running Pkg.gc()...\n",
      "\u001b[32m\u001b[1m      Active\u001b[22m\u001b[39m manifest files: 145 found\n",
      "\u001b[32m\u001b[1m      Active\u001b[22m\u001b[39m artifact files: 218 found\n",
      "\u001b[32m\u001b[1m      Active\u001b[22m\u001b[39m scratchspaces: 8 found\n",
      "\u001b[32m\u001b[1m     Deleted\u001b[22m\u001b[39m 5 package installations (361.199 KiB)\n"
     ]
    }
   ],
   "source": [
    "include(\"Include.jl\");"
   ]
  },
  {
   "cell_type": "markdown",
   "id": "5eea45c8-3766-461c-bb13-6b3c8b2b7ebb",
   "metadata": {},
   "source": [
    "## Prerequisites "
   ]
  },
  {
   "cell_type": "code",
   "execution_count": 2,
   "id": "6df42777-fcae-4870-b284-4f0709a9a807",
   "metadata": {},
   "outputs": [],
   "source": [
    "# initialize -\n",
    "dataset = Dict{String,DataFrame}();\n",
    "risk_free_rate = 0.05;\n",
    "\n",
    "# load the price dataset full dataset, remove firms with missing data -\n",
    "original_dataset = MyPortfolioDataSet() |> x->x[\"dataset\"];\n",
    "maximum_number_trading_days = original_dataset[\"AAPL\"] |> nrow;\n",
    "for (ticker,data) ∈ original_dataset\n",
    "    if (nrow(data) == maximum_number_trading_days)\n",
    "        dataset[ticker] = data;\n",
    "    end\n",
    "end\n",
    "my_list_of_tickers = keys(dataset) |> collect |> x->sort(x);\n",
    "\n",
    "# what ticker?\n",
    "ticker = \"SPY\"\n",
    "idx_ticker = findfirst(x->x==ticker, my_list_of_tickers);\n",
    "\n",
    "# compute the growth rate matrix -\n",
    "market_matrix = μ(dataset, my_list_of_tickers, risk_free_rate = risk_free_rate) |> x-> transpose(x) |> Matrix;\n",
    "Rₘ = market_matrix[idx_ticker, :]; # this is growth rate of the price"
   ]
  },
  {
   "cell_type": "markdown",
   "id": "601615a8-1b27-49b3-934c-ace1caa02baf",
   "metadata": {},
   "source": [
    "## Task 1: Construct the states $\\mathcal{S}$, the emission matrix $\\mathbf{E}$ and transition matrix $\\hat{\\mathbf{T}}$\n",
    "First, consider the states $\\mathcal{S}$. Suppose we put a label on each excess return value, ranging from `super bad,` $\\dots$,` unchanged,` $\\dots$,` super good,` where if $R\\ll{0}$, then we are `super bad,` or $R\\gg{0}$ we are in the `super good` category (or we are someplace in between). \n",
    "* We could use the [cumulative distribution function](https://en.wikipedia.org/wiki/Cumulative_distribution_function) computed from the observed return series $R_{i,1}, \\dots, R_{i,n}$ to partition actual excess returns into one of a fixed number of categories. Once we have the categories, we can compute the probability that category $i$ is followed by category $j$ (these values are entries in the state transition matrix $\\hat{\\mathbf{T}}$).\n",
    "* To start, specify a value for the  `number_of_states` variable, where the `number_of_states` controls how many categories we have when splitting up the return time series"
   ]
  },
  {
   "cell_type": "code",
   "execution_count": 3,
   "id": "08cd8fca-674f-4c1a-b066-2b0df00c68a1",
   "metadata": {},
   "outputs": [],
   "source": [
    "number_of_states = 5;\n",
    "states = range(1,stop=number_of_states) |> collect;"
   ]
  },
  {
   "cell_type": "markdown",
   "id": "f968703b-ca20-4c32-b26d-db37ae503d0b",
   "metadata": {},
   "source": [
    "Next, set up the emissions matrix $\\mathbf{E}$. For this example, we assume that the states are __fully observable__, i.e., we can see the states directly. Thus, the emission matrix $\\mathbf{E}$ is the identity matrix $\\mathbf{I}$:"
   ]
  },
  {
   "cell_type": "code",
   "execution_count": 4,
   "id": "d04bba8a-a9b8-4697-b6dc-d06dd3643fd4",
   "metadata": {},
   "outputs": [],
   "source": [
    "E = diagm(ones(number_of_states));"
   ]
  },
  {
   "cell_type": "markdown",
   "id": "34ad667f-3b10-4f70-8f90-86a2e2d727c0",
   "metadata": {},
   "source": [
    "### TODO: Estimate the transition matrix $\\hat{\\mathbf{T}}$ from market data\n",
    "To estimate the transition matrix $\\hat{\\mathbf{T}}$, we'll estimate the transition probabilities from the excess return data calculated in the `Prerequisites` section and saved in the `Rₘ` variable:\n",
    "* Let's split the data into two blocks: the first (which we'll call `in-sample`) will be used to estimate the elements of the matrix $\\hat{\\mathbf{T}}$, while the second (which we'll call `out-of-sample`) will be used for testing purposes."
   ]
  },
  {
   "cell_type": "code",
   "execution_count": 5,
   "id": "9f660cb6-6e83-4f72-9da0-983c96b704ef",
   "metadata": {},
   "outputs": [],
   "source": [
    "split_fraction = 0.90;\n",
    "insample_end_index = round(split_fraction*length(Rₘ),digits=0) |> Int\n",
    "in_sample_dataset = Rₘ[1:insample_end_index]\n",
    "out_of_sample_dataset = Rₘ[(insample_end_index+1):end];"
   ]
  },
  {
   "cell_type": "markdown",
   "id": "ece5b71b-ade2-47ec-8687-a8215d76c201",
   "metadata": {},
   "source": [
    "The excess return distribution is a random variable that follows some [probability distribution function](https://en.wikipedia.org/wiki/Probability_distribution). We don't know what that distribution is, but for now, we assume the excess returns follow a [Laplace distribution](https://en.wikipedia.org/wiki/Laplace_distribution)\n",
    "* We use the [fit_mle function](https://juliastats.org/Distributions.jl/stable/fit/#Distributions.fit_mle-Tuple{Any,%20Any}) exported by the [Distributions.jl package](https://github.com/JuliaStats/Distributions.jl) to fit a [Laplace distribution](https://en.wikipedia.org/wiki/Laplace_distribution) to our our data. We fit the distribution to the full dataset `Rₘ`, and save the distribution in the `d` variable."
   ]
  },
  {
   "cell_type": "code",
   "execution_count": 6,
   "id": "66998588-5052-4465-93aa-b55bd0ceb484",
   "metadata": {},
   "outputs": [],
   "source": [
    "d = fit_mle(Laplace, Rₘ); # use the *full* data set to establish the cutoff's"
   ]
  },
  {
   "cell_type": "markdown",
   "id": "07c04fe8-4be7-45f9-a2dd-6fed0dd9377d",
   "metadata": {},
   "source": [
    "Next, we generate the percentile cutoffs that we use to establish the bounds that correspond to each category of return, i.e., `super bad` or `super good`, etc."
   ]
  },
  {
   "cell_type": "code",
   "execution_count": 7,
   "id": "3930c894-f2fa-429f-b457-11e520070faf",
   "metadata": {},
   "outputs": [],
   "source": [
    "percentage_cutoff = range(0.0,stop=1.0,length=(number_of_states+1)) |> collect;"
   ]
  },
  {
   "cell_type": "markdown",
   "id": "5f060727-c15a-41f0-a93b-c28c01ab7d00",
   "metadata": {},
   "source": [
    "Now that we have the cutoffs, compute the lower and upper bound for each potentiual category. To do this, we'll use the [quantile function](https://juliastats.org/Distributions.jl/stable/univariate/#Statistics.quantile-Tuple{UnivariateDistribution,%20Real}) exported by the [Distributions.jl package](https://github.com/JuliaStats/Distributions.jl). For a given `0 ≤ q ≤ 1`, `quantile(d, q)` is the smallest value `x` \n",
    "for which `cdf(d, x) ≥ q`."
   ]
  },
  {
   "cell_type": "code",
   "execution_count": 15,
   "id": "3539c8bf-92cd-4b37-97c0-3985ce9085a3",
   "metadata": {},
   "outputs": [],
   "source": [
    "bounds = Array{Float64,2}(undef, number_of_states,2)\n",
    "for s ∈ states\n",
    "    bounds[s,1] = quantile(d,percentage_cutoff[s])\n",
    "    bounds[s,2] = quantile(d,percentage_cutoff[s+1])\n",
    "end\n",
    "bounds;"
   ]
  },
  {
   "cell_type": "markdown",
   "id": "66c00e10-e748-46a5-b691-6c6b76b9cae0",
   "metadata": {},
   "source": [
    "Now that we have the category bounds, let's take the excess return data and determine which state an excess return observation corresponds to. For each sample in the `in_sample_dataset`:\n",
    "* Classify the sample value into one of the possible categories. Let `state = 1` equal the worst return, and `state = number_of_states` equal the best return. Save these results in the `encoded_in_sample` array:"
   ]
  },
  {
   "cell_type": "code",
   "execution_count": 9,
   "id": "f2d5bf65-1220-4d1d-85ae-7984043ca677",
   "metadata": {},
   "outputs": [],
   "source": [
    "encoded_in_sample = Array{Int64,1}();\n",
    "for i ∈ eachindex(in_sample_dataset)\n",
    "    value = in_sample_dataset[i];\n",
    "\n",
    "    class_index = 1;\n",
    "    for s ∈ states\n",
    "        if (bounds[s,1] ≤ value && value < bounds[s,2])\n",
    "            class_index = s;\n",
    "            break;\n",
    "        end\n",
    "    end\n",
    "    push!(encoded_in_sample, class_index);\n",
    "end\n",
    "encoded_in_sample;"
   ]
  },
  {
   "cell_type": "markdown",
   "id": "0965ca7d-0448-4de1-ab47-107e35e66c7a",
   "metadata": {},
   "source": [
    "In the matrix $\\mathbf{T}$ compute the `counts` for transition from state `i` to state `j`:"
   ]
  },
  {
   "cell_type": "code",
   "execution_count": 10,
   "id": "7f2cf498-f07c-4b61-a0aa-14c108376738",
   "metadata": {},
   "outputs": [
    {
     "data": {
      "text/plain": [
       "5×5 Matrix{Float64}:\n",
       " 110.0  44.0  28.0  44.0  75.0\n",
       "  61.0  57.0  46.0  63.0  29.0\n",
       "  46.0  55.0  77.0  57.0  36.0\n",
       "  39.0  60.0  74.0  68.0  58.0\n",
       "  45.0  40.0  47.0  66.0  75.0"
      ]
     },
     "execution_count": 10,
     "metadata": {},
     "output_type": "execute_result"
    }
   ],
   "source": [
    "T = zeros(number_of_states, number_of_states)\n",
    "for i ∈ 2:insample_end_index\n",
    "    start_index = encoded_in_sample[i-1];\n",
    "    stop_index = encoded_in_sample[i];\n",
    "    T[start_index,stop_index] += 1;\n",
    "end\n",
    "T"
   ]
  },
  {
   "cell_type": "markdown",
   "id": "d67b77c2-520c-48fa-98e6-4e2c3edc587a",
   "metadata": {},
   "source": [
    "From the `counts` matrix $\\mathbf{T}$, compute the transtion probability matrix $\\hat{\\mathbf{T}}$:"
   ]
  },
  {
   "cell_type": "code",
   "execution_count": 11,
   "id": "bff6e82d-4db3-453b-99c1-094e2d34ac10",
   "metadata": {},
   "outputs": [
    {
     "data": {
      "text/plain": [
       "5×5 Matrix{Float64}:\n",
       " 0.365449  0.146179  0.0930233  0.146179  0.249169\n",
       " 0.238281  0.222656  0.179688   0.246094  0.113281\n",
       " 0.169742  0.202952  0.284133   0.210332  0.132841\n",
       " 0.130435  0.200669  0.247492   0.227425  0.19398\n",
       " 0.164835  0.14652   0.172161   0.241758  0.274725"
      ]
     },
     "execution_count": 11,
     "metadata": {},
     "output_type": "execute_result"
    }
   ],
   "source": [
    "T̂ = zeros(number_of_states, number_of_states)\n",
    "for row ∈ states\n",
    "    Z = sum(T[row,:]);\n",
    "    for col ∈ states\n",
    "        T̂[row,col] = (1/Z)*T[row,col]\n",
    "    end\n",
    "end\n",
    "T̂"
   ]
  },
  {
   "cell_type": "markdown",
   "id": "a695557e-ce39-4690-a1dd-7e4baf3ed5c4",
   "metadata": {},
   "source": [
    "## Task 2: Simulate the Observable Markov Model (OMM)"
   ]
  },
  {
   "cell_type": "code",
   "execution_count": 16,
   "id": "7cc20d87-5a26-4c41-b013-8596faca3802",
   "metadata": {},
   "outputs": [],
   "source": [
    "model = build(MyObservableMarkovModel, (\n",
    "    states = states,\n",
    "    T = T̂, \n",
    "    E = E\n",
    "));"
   ]
  },
  {
   "cell_type": "markdown",
   "id": "7a2eea49-8ead-4b9f-8901-fb495ea07744",
   "metadata": {},
   "source": [
    "### TODO: Generate the stationary distribution from the estimated $\\hat{\\mathbf{T}}$ matrix\n",
    "Generate the stationary distribution for the estimated transition matrix $\\hat{T}$ and use it to construct a [Categorical distribution](https://juliastats.org/Distributions.jl/stable/univariate/#Distributions.Categorical) representing the stationary distrubution, save the [Categorical distribution](https://juliastats.org/Distributions.jl/stable/univariate/#Distributions.Categorical) in the `π̄`-variable:"
   ]
  },
  {
   "cell_type": "code",
   "execution_count": 13,
   "id": "ca16cd88-78e7-44ca-ac95-06d240610c44",
   "metadata": {},
   "outputs": [],
   "source": [
    "π̄ = (T̂^100) |> tmp -> Categorical(tmp[1,:]);"
   ]
  },
  {
   "cell_type": "code",
   "execution_count": null,
   "id": "af4b1b93-1605-4757-8455-45383596bbf8",
   "metadata": {},
   "outputs": [],
   "source": []
  },
  {
   "cell_type": "code",
   "execution_count": 14,
   "id": "dbb8b2db-0c36-46d7-b973-e8c43428cfa4",
   "metadata": {},
   "outputs": [
    {
     "data": {
      "text/plain": [
       "252×10 Matrix{Int64}:\n",
       " 3  2  3  5  1  3  3  3  5  1\n",
       " 1  5  5  1  1  3  4  2  1  2\n",
       " 4  3  5  5  1  4  4  5  1  2\n",
       " 1  3  4  5  1  5  5  5  5  4\n",
       " 1  1  3  5  1  5  1  1  3  3\n",
       " 5  1  3  5  5  1  5  1  4  5\n",
       " 2  1  3  2  5  1  4  5  4  2\n",
       " 4  4  1  2  1  5  3  5  1  2\n",
       " 4  3  1  4  2  5  4  2  4  2\n",
       " 1  3  1  3  3  5  2  4  4  1\n",
       " 1  3  2  1  2  5  4  3  4  3\n",
       " 4  1  3  2  4  4  2  2  5  5\n",
       " 3  1  1  4  4  1  3  3  3  2\n",
       " ⋮              ⋮           \n",
       " 4  4  2  5  1  4  5  2  3  4\n",
       " 4  5  5  5  4  3  5  3  1  4\n",
       " 2  3  5  3  4  2  3  5  1  5\n",
       " 2  2  4  2  1  2  3  4  1  5\n",
       " 3  3  2  1  4  1  1  3  4  1\n",
       " 5  2  5  4  5  1  1  5  4  2\n",
       " 1  1  2  2  4  3  1  3  2  5\n",
       " 3  1  5  5  4  4  2  5  1  5\n",
       " 3  2  4  5  4  3  4  3  1  5\n",
       " 4  3  4  2  4  3  3  5  1  2\n",
       " 5  2  5  2  5  5  3  4  3  4\n",
       " 4  3  5  3  4  3  3  5  5  2"
      ]
     },
     "execution_count": 14,
     "metadata": {},
     "output_type": "execute_result"
    }
   ],
   "source": [
    "number_of_paths = 10;\n",
    "number_of_steps = 252; # average number of trading days per year\n",
    "archive = Array{Int64,2}(undef, number_of_steps, number_of_paths);\n",
    "for i ∈ 1:number_of_paths\n",
    "    start_state = rand(π̄);\n",
    "    tmp = model(start_state, number_of_steps)\n",
    "    for j ∈ 1:number_of_steps\n",
    "        archive[j,i] = tmp[j]\n",
    "    end\n",
    "end\n",
    "archive"
   ]
  }
 ],
 "metadata": {
  "kernelspec": {
   "display_name": "Julia 1.10.2",
   "language": "julia",
   "name": "julia-1.10"
  },
  "language_info": {
   "file_extension": ".jl",
   "mimetype": "application/julia",
   "name": "julia",
   "version": "1.10.2"
  }
 },
 "nbformat": 4,
 "nbformat_minor": 5
}
